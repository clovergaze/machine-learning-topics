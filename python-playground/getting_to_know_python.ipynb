{
 "cells": [
  {
   "cell_type": "code",
   "execution_count": 91,
   "outputs": [],
   "source": [
    "from enum import Enum"
   ],
   "metadata": {
    "collapsed": false,
    "ExecuteTime": {
     "end_time": "2023-08-08T22:58:20.647637180Z",
     "start_time": "2023-08-08T22:58:20.600624537Z"
    }
   },
   "id": "dfd7706d3096c737"
  },
  {
   "cell_type": "code",
   "execution_count": 92,
   "id": "initial_id",
   "metadata": {
    "collapsed": true,
    "ExecuteTime": {
     "end_time": "2023-08-08T22:58:22.609039812Z",
     "start_time": "2023-08-08T22:58:20.622301604Z"
    }
   },
   "outputs": [],
   "source": [
    "class Category(Enum):\n",
    "    CLOTHES = \"Clothes\"\n",
    "    WEAPON = \"Weapon\"\n",
    "    FOOD = \"Food\"\n",
    "    OTHER = \"Other\"\n",
    "\n",
    "    @staticmethod\n",
    "    def print_categories():\n",
    "        print(\"Available item categories:\")\n",
    "        for category in Category:\n",
    "            print(\"* \" + category.value)"
   ]
  },
  {
   "cell_type": "code",
   "execution_count": 93,
   "outputs": [
    {
     "name": "stdout",
     "output_type": "stream",
     "text": [
      "Available item categories:\n",
      "* Clothes\n",
      "* Weapon\n",
      "* Food\n",
      "* Other\n"
     ]
    }
   ],
   "source": [
    "Category.print_categories()"
   ],
   "metadata": {
    "collapsed": false,
    "ExecuteTime": {
     "end_time": "2023-08-08T22:58:22.659013513Z",
     "start_time": "2023-08-08T22:58:22.607917295Z"
    }
   },
   "id": "1e79566d1a1ede44"
  },
  {
   "cell_type": "code",
   "execution_count": 94,
   "outputs": [],
   "source": [
    "class Item:\n",
    "\n",
    "    def __init__(self, name, category, value, weight, condition=100.0):\n",
    "        self.name = name\n",
    "        self.category = category\n",
    "        self.value = value\n",
    "        self.weight = weight\n",
    "        self.condition = condition\n",
    "\n",
    "    def get_name(self):\n",
    "        return self.name\n",
    "\n",
    "    def get_category(self):\n",
    "        return self.category\n",
    "\n",
    "    def get_value(self):\n",
    "        return self.value\n",
    "\n",
    "    def get_weight(self):\n",
    "        return self.weight\n",
    "\n",
    "    def get_condition(self):\n",
    "        return self.condition\n",
    "\n",
    "    def decrease_condition(self, amount):\n",
    "        self.condition -= amount\n",
    "\n",
    "    def repair_condition(self):\n",
    "        self.condition = 100.0\n",
    "\n",
    "    def print_item(self):\n",
    "        print(\"Name: \" + self.name)\n",
    "        print(\"Category: \" + self.category.value)\n",
    "        print(\"Value: \" + str(self.value))\n",
    "        print(\"Weight: \" + str(self.weight))\n",
    "\n",
    "        if self.condition > 95.0:\n",
    "            verbatim = \"excellent\"\n",
    "        elif self.condition > 75.0:\n",
    "            verbatim = \"good\"\n",
    "        elif self.condition > 50.0:\n",
    "            verbatim = \"fair\"\n",
    "        elif self.condition > 25.0:\n",
    "            verbatim = \"poor\"\n",
    "        elif self.condition > 0.0:\n",
    "            verbatim = \"very poor\"\n",
    "        else:\n",
    "            verbatim = \"broken\"\n",
    "\n",
    "        print(\"Condition: \" + verbatim + \" (\" + str(self.condition) + \"%)\")"
   ],
   "metadata": {
    "collapsed": false,
    "ExecuteTime": {
     "end_time": "2023-08-08T22:58:22.703812269Z",
     "start_time": "2023-08-08T22:58:22.635357171Z"
    }
   },
   "id": "b4a4b8ec11bce1aa"
  },
  {
   "cell_type": "code",
   "execution_count": 95,
   "outputs": [],
   "source": [
    "# Create some items\n",
    "hat = Item(\"Hat\", Category.CLOTHES, 3.2, 0.34)\n",
    "boots = Item(\"Boots\", Category.CLOTHES, 5.6, 1.75)\n",
    "sword = Item(\"Sword\", Category.WEAPON, 13.2, 6.4)\n",
    "bow = Item(\"Bow\", Category.WEAPON, 10.7, 4.8)\n",
    "bread = Item(\"Bread\", Category.FOOD, 2.7, 0.78)\n",
    "apple = Item(\"Apple\", Category.FOOD, 0.34, 0.27)"
   ],
   "metadata": {
    "collapsed": false,
    "ExecuteTime": {
     "end_time": "2023-08-08T22:58:22.767434118Z",
     "start_time": "2023-08-08T22:58:22.700979930Z"
    }
   },
   "id": "d3ee5dbddeb4dc70"
  },
  {
   "cell_type": "code",
   "execution_count": 96,
   "outputs": [
    {
     "name": "stdout",
     "output_type": "stream",
     "text": [
      "Sword\n"
     ]
    }
   ],
   "source": [
    "print(sword.get_name())"
   ],
   "metadata": {
    "collapsed": false,
    "ExecuteTime": {
     "end_time": "2023-08-08T22:58:22.855193468Z",
     "start_time": "2023-08-08T22:58:22.768763288Z"
    }
   },
   "id": "b289d621989adaa3"
  },
  {
   "cell_type": "code",
   "execution_count": 97,
   "outputs": [
    {
     "name": "stdout",
     "output_type": "stream",
     "text": [
      "Name: Hat\n",
      "Category: Clothes\n",
      "Value: 3.2\n",
      "Weight: 0.34\n",
      "Condition: excellent (100.0%)\n"
     ]
    }
   ],
   "source": [
    "hat.print_item()"
   ],
   "metadata": {
    "collapsed": false,
    "ExecuteTime": {
     "end_time": "2023-08-08T22:58:22.940578890Z",
     "start_time": "2023-08-08T22:58:22.857064184Z"
    }
   },
   "id": "c19f7f095f69336f"
  },
  {
   "cell_type": "code",
   "execution_count": 98,
   "outputs": [
    {
     "name": "stdout",
     "output_type": "stream",
     "text": [
      "Name: Hat\n",
      "Category: Clothes\n",
      "Value: 3.2\n",
      "Weight: 0.34\n",
      "Condition: fair (55.0%)\n"
     ]
    }
   ],
   "source": [
    "hat.decrease_condition(45)\n",
    "hat.print_item()"
   ],
   "metadata": {
    "collapsed": false,
    "ExecuteTime": {
     "end_time": "2023-08-08T22:58:23.084186531Z",
     "start_time": "2023-08-08T22:58:22.927096632Z"
    }
   },
   "id": "d81768871db6e05a"
  },
  {
   "cell_type": "code",
   "execution_count": 99,
   "outputs": [],
   "source": [
    "class Gold:\n",
    "\n",
    "    @staticmethod\n",
    "    def validate_amount_is_positive(amount):\n",
    "        if amount < 0:\n",
    "            raise ValueError(\"Amount must be positive\")\n",
    "\n",
    "    def __init__(self, amount=0.0):\n",
    "        Gold.validate_amount_is_positive(amount)\n",
    "\n",
    "        self.name = \"Gold\"\n",
    "        self.category = Category.OTHER\n",
    "        self.amount = amount\n",
    "\n",
    "    def get_name(self):\n",
    "        return self.name\n",
    "\n",
    "    def get_category(self):\n",
    "        return self.category\n",
    "\n",
    "    def get_amount(self):\n",
    "        return self.amount\n",
    "\n",
    "    def add_amount(self, amount):\n",
    "        Gold.validate_amount_is_positive(amount)\n",
    "        self.amount += amount\n",
    "\n",
    "    def remove_amount(self, amount):\n",
    "        Gold.validate_amount_is_positive(amount)\n",
    "\n",
    "        if amount >= self.amount:\n",
    "            raise ValueError(\"Not enough gold\")\n",
    "\n",
    "        self.amount -= amount\n",
    "\n",
    "    def get_weight(self):\n",
    "        return self.amount / 1000\n",
    "\n",
    "    def print_item(self):\n",
    "        print(\"Name: \" + self.name)\n",
    "        print(\"Category: \" + self.category.value)\n",
    "        print(\"Amount: \" + str(self.amount))\n",
    "        print(\"Weight: \" + str(self.get_weight()))"
   ],
   "metadata": {
    "collapsed": false,
    "ExecuteTime": {
     "end_time": "2023-08-08T22:58:23.137059906Z",
     "start_time": "2023-08-08T22:58:23.075845411Z"
    }
   },
   "id": "8f5c4ea2e5018a4d"
  },
  {
   "cell_type": "code",
   "execution_count": 100,
   "outputs": [
    {
     "name": "stdout",
     "output_type": "stream",
     "text": [
      "Name: Gold\n",
      "Category: Other\n",
      "Amount: 200\n",
      "Weight: 0.2\n"
     ]
    }
   ],
   "source": [
    "gold = Gold(200)\n",
    "gold.print_item()"
   ],
   "metadata": {
    "collapsed": false,
    "ExecuteTime": {
     "end_time": "2023-08-08T22:58:23.200631402Z",
     "start_time": "2023-08-08T22:58:23.123779239Z"
    }
   },
   "id": "dcd1d20578eedb7b"
  },
  {
   "cell_type": "code",
   "execution_count": 101,
   "outputs": [
    {
     "name": "stdout",
     "output_type": "stream",
     "text": [
      "Name: Gold\n",
      "Category: Other\n",
      "Amount: 250\n",
      "Weight: 0.25\n"
     ]
    }
   ],
   "source": [
    "gold.add_amount(50)\n",
    "gold.print_item()"
   ],
   "metadata": {
    "collapsed": false,
    "ExecuteTime": {
     "end_time": "2023-08-08T22:58:23.292314790Z",
     "start_time": "2023-08-08T22:58:23.204905780Z"
    }
   },
   "id": "7e0bb8d59ad48b24"
  },
  {
   "cell_type": "code",
   "execution_count": 102,
   "outputs": [
    {
     "name": "stdout",
     "output_type": "stream",
     "text": [
      "Amount must be positive\n"
     ]
    }
   ],
   "source": [
    "try:\n",
    "    gold.add_amount(-50)\n",
    "except ValueError as e:\n",
    "    print(e)"
   ],
   "metadata": {
    "collapsed": false,
    "ExecuteTime": {
     "end_time": "2023-08-08T22:58:23.368181529Z",
     "start_time": "2023-08-08T22:58:23.291915630Z"
    }
   },
   "id": "efa2770336ed61f5"
  },
  {
   "cell_type": "code",
   "execution_count": 103,
   "outputs": [
    {
     "name": "stdout",
     "output_type": "stream",
     "text": [
      "Name: Gold\n",
      "Category: Other\n",
      "Amount: 150\n",
      "Weight: 0.15\n"
     ]
    }
   ],
   "source": [
    "gold.remove_amount(100)\n",
    "gold.print_item()"
   ],
   "metadata": {
    "collapsed": false,
    "ExecuteTime": {
     "end_time": "2023-08-08T22:58:23.558932060Z",
     "start_time": "2023-08-08T22:58:23.368816251Z"
    }
   },
   "id": "a0b78d9cb7085130"
  },
  {
   "cell_type": "code",
   "execution_count": 104,
   "outputs": [
    {
     "name": "stdout",
     "output_type": "stream",
     "text": [
      "Not enough gold\n",
      "\n",
      "Name: Gold\n",
      "Category: Other\n",
      "Amount: 150\n",
      "Weight: 0.15\n"
     ]
    }
   ],
   "source": [
    "try:\n",
    "    gold.remove_amount(500)\n",
    "except ValueError as e:\n",
    "    print(e)\n",
    "    print()\n",
    "\n",
    "gold.print_item()"
   ],
   "metadata": {
    "collapsed": false,
    "ExecuteTime": {
     "end_time": "2023-08-08T22:58:24.815882853Z",
     "start_time": "2023-08-08T22:58:23.599778808Z"
    }
   },
   "id": "3a7373fec3b6e9c2"
  },
  {
   "cell_type": "code",
   "execution_count": 105,
   "outputs": [],
   "source": [
    "class Inventory:\n",
    "\n",
    "    def __init__(self, items=None, gold_amount=0.0):\n",
    "        self.items = items if items is not None else []\n",
    "        self.gold = Gold(gold_amount)\n",
    "\n",
    "    def add_item(self, item):\n",
    "        if item in self.items:\n",
    "            raise ValueError(\"Item already in inventory\")\n",
    "        self.items.append(item)\n",
    "\n",
    "    def remove_item(self, item):\n",
    "        self.items.remove(item)\n",
    "\n",
    "    def add_gold(self, amount):\n",
    "        self.gold.add_amount(amount)\n",
    "\n",
    "    def remove_gold(self, amount):\n",
    "        self.gold.remove_amount(amount)\n",
    "\n",
    "    def print_inventory(self, category=None):\n",
    "        print(\"Inventory\")\n",
    "        print(\"=========\")\n",
    "        print()\n",
    "        self.print_gold()\n",
    "        print()\n",
    "        self.print_items(category)\n",
    "        print()\n",
    "\n",
    "    def print_items(self, category=None):\n",
    "        if len(self.items) == 0:\n",
    "            print(\"Inventory is empty\")\n",
    "        else:\n",
    "            if category is None:\n",
    "                for item in self.items:\n",
    "                    item.print_item()\n",
    "                    print()\n",
    "            else:\n",
    "                for item in self.items:\n",
    "                    if item.get_category() == category:\n",
    "                        item.print_item()\n",
    "                        print()\n",
    "\n",
    "    def print_gold(self):\n",
    "        print(\"Gold: \" + str(self.gold.get_amount()))"
   ],
   "metadata": {
    "collapsed": false,
    "ExecuteTime": {
     "end_time": "2023-08-08T22:58:24.907574908Z",
     "start_time": "2023-08-08T22:58:24.823050424Z"
    }
   },
   "id": "6da2ca8b0ad87573"
  },
  {
   "cell_type": "code",
   "execution_count": 106,
   "outputs": [
    {
     "name": "stdout",
     "output_type": "stream",
     "text": [
      "Inventory\n",
      "=========\n",
      "\n",
      "Gold: 0.0\n",
      "\n",
      "Inventory is empty\n"
     ]
    }
   ],
   "source": [
    "inventory = Inventory()\n",
    "inventory.print_inventory()"
   ],
   "metadata": {
    "collapsed": false,
    "ExecuteTime": {
     "end_time": "2023-08-08T22:58:25.034333637Z",
     "start_time": "2023-08-08T22:58:24.900065736Z"
    }
   },
   "id": "6bf94a7f7cdbb711"
  },
  {
   "cell_type": "code",
   "execution_count": 107,
   "outputs": [
    {
     "name": "stdout",
     "output_type": "stream",
     "text": [
      "Name: Hat\n",
      "Category: Clothes\n",
      "Value: 3.2\n",
      "Weight: 0.34\n",
      "Condition: fair (55.0%)\n"
     ]
    }
   ],
   "source": [
    "inventory.add_item(hat)\n",
    "inventory.print_items()"
   ],
   "metadata": {
    "collapsed": false,
    "ExecuteTime": {
     "end_time": "2023-08-08T22:58:25.154982774Z",
     "start_time": "2023-08-08T22:58:25.015001189Z"
    }
   },
   "id": "fb32038c81e840fa"
  },
  {
   "cell_type": "code",
   "execution_count": 108,
   "outputs": [
    {
     "name": "stdout",
     "output_type": "stream",
     "text": [
      "Item already in inventory\n"
     ]
    }
   ],
   "source": [
    "try:\n",
    "    inventory.add_item(hat)\n",
    "except ValueError as e:\n",
    "    print(e)"
   ],
   "metadata": {
    "collapsed": false,
    "ExecuteTime": {
     "end_time": "2023-08-08T22:58:25.240354640Z",
     "start_time": "2023-08-08T22:58:25.152133875Z"
    }
   },
   "id": "88492c8a7e1c32ae"
  },
  {
   "cell_type": "code",
   "execution_count": 109,
   "outputs": [
    {
     "name": "stdout",
     "output_type": "stream",
     "text": [
      "Inventory\n",
      "=========\n",
      "\n",
      "Gold: 0.0\n",
      "\n",
      "Inventory is empty\n"
     ]
    }
   ],
   "source": [
    "inventory.remove_item(hat)\n",
    "inventory.print_inventory()"
   ],
   "metadata": {
    "collapsed": false,
    "ExecuteTime": {
     "end_time": "2023-08-08T22:58:25.333102955Z",
     "start_time": "2023-08-08T22:58:25.240060280Z"
    }
   },
   "id": "ae147eef4cfa4ba"
  },
  {
   "cell_type": "code",
   "execution_count": 110,
   "outputs": [
    {
     "name": "stdout",
     "output_type": "stream",
     "text": [
      "list.remove(x): x not in list\n"
     ]
    }
   ],
   "source": [
    "try:\n",
    "    inventory.remove_item(sword)\n",
    "except ValueError as e:\n",
    "    print(e)"
   ],
   "metadata": {
    "collapsed": false,
    "ExecuteTime": {
     "end_time": "2023-08-08T22:58:25.430926968Z",
     "start_time": "2023-08-08T22:58:25.334967702Z"
    }
   },
   "id": "4115bf08ef889340"
  },
  {
   "cell_type": "code",
   "execution_count": 111,
   "outputs": [
    {
     "name": "stdout",
     "output_type": "stream",
     "text": [
      "Gold: 250.0\n"
     ]
    }
   ],
   "source": [
    "inventory.add_gold(250)\n",
    "inventory.print_gold()"
   ],
   "metadata": {
    "collapsed": false,
    "ExecuteTime": {
     "end_time": "2023-08-08T22:58:25.510960552Z",
     "start_time": "2023-08-08T22:58:25.420009793Z"
    }
   },
   "id": "bfac190735eb4907"
  },
  {
   "cell_type": "code",
   "execution_count": 112,
   "outputs": [
    {
     "name": "stdout",
     "output_type": "stream",
     "text": [
      "Inventory\n",
      "=========\n",
      "\n",
      "Gold: 150.0\n",
      "\n",
      "Inventory is empty\n"
     ]
    }
   ],
   "source": [
    "inventory.remove_gold(100)\n",
    "inventory.print_inventory()"
   ],
   "metadata": {
    "collapsed": false,
    "ExecuteTime": {
     "end_time": "2023-08-08T22:58:25.654385364Z",
     "start_time": "2023-08-08T22:58:25.507265083Z"
    }
   },
   "id": "eb2c308a5837741e"
  },
  {
   "cell_type": "code",
   "execution_count": 113,
   "outputs": [
    {
     "name": "stdout",
     "output_type": "stream",
     "text": [
      "Inventory\n",
      "=========\n",
      "\n",
      "Gold: 150.0\n",
      "\n",
      "Name: Bread\n",
      "Category: Food\n",
      "Value: 2.7\n",
      "Weight: 0.78\n",
      "Condition: excellent (100.0%)\n",
      "\n",
      "Name: Apple\n",
      "Category: Food\n",
      "Value: 0.34\n",
      "Weight: 0.27\n",
      "Condition: excellent (100.0%)\n"
     ]
    }
   ],
   "source": [
    "inventory.add_item(hat)\n",
    "inventory.add_item(boots)\n",
    "inventory.add_item(sword)\n",
    "inventory.add_item(bread)\n",
    "inventory.add_item(apple)\n",
    "\n",
    "inventory.print_inventory(Category.FOOD)"
   ],
   "metadata": {
    "collapsed": false,
    "ExecuteTime": {
     "end_time": "2023-08-08T22:58:25.749371222Z",
     "start_time": "2023-08-08T22:58:25.695868207Z"
    }
   },
   "id": "bb8ec91a722ede34"
  },
  {
   "cell_type": "code",
   "execution_count": 114,
   "outputs": [],
   "source": [
    "class Character:\n",
    "\n",
    "    def __init__(self, name, health=100, inventory=None):\n",
    "        self.name = name\n",
    "        self.health = health\n",
    "        self.inventory = inventory if inventory is not None else Inventory()\n",
    "\n",
    "    def get_name(self):\n",
    "        return self.name\n",
    "\n",
    "    def get_health(self):\n",
    "        return self.health\n",
    "\n",
    "    def decrease_health(self, amount):\n",
    "        self.health -= amount\n",
    "        if self.health < 0:\n",
    "            self.health = 0\n",
    "\n",
    "    def increase_health(self, amount):\n",
    "        self.health += amount\n",
    "        if self.health > 100:\n",
    "            self.health = 100\n",
    "\n",
    "    def get_inventory(self):\n",
    "        return self.inventory\n",
    "\n",
    "    def print_character(self):\n",
    "        print(\"Name: \" + self.name)\n",
    "\n",
    "        if self.health > 95:\n",
    "            verbatim = \"excellent\"\n",
    "        elif self.health > 75:\n",
    "            verbatim = \"good\"\n",
    "        elif self.health > 50:\n",
    "            verbatim = \"fair\"\n",
    "        elif self.health > 25:\n",
    "            verbatim = \"poor\"\n",
    "        elif self.health > 0:\n",
    "            verbatim = \"very poor\"\n",
    "        else:\n",
    "            verbatim = \"dead\"\n",
    "\n",
    "        print(\"Health: \" + verbatim + \" (\" + str(self.health) + \"%)\")\n",
    "        print()\n",
    "        self.inventory.print_inventory()"
   ],
   "metadata": {
    "collapsed": false,
    "ExecuteTime": {
     "end_time": "2023-08-08T22:58:25.989661772Z",
     "start_time": "2023-08-08T22:58:25.754920459Z"
    }
   },
   "id": "bf21b14e7eda911e"
  },
  {
   "cell_type": "code",
   "execution_count": 115,
   "outputs": [],
   "source": [
    "bob = Character(\"Bob\")"
   ],
   "metadata": {
    "collapsed": false,
    "ExecuteTime": {
     "end_time": "2023-08-08T22:58:26.216496182Z",
     "start_time": "2023-08-08T22:58:25.993280153Z"
    }
   },
   "id": "aafca7e46aa5048f"
  },
  {
   "cell_type": "code",
   "execution_count": 116,
   "outputs": [
    {
     "name": "stdout",
     "output_type": "stream",
     "text": [
      "Name: Bob\n",
      "Health: excellent (100%)\n",
      "\n",
      "Inventory\n",
      "=========\n",
      "\n",
      "Gold: 0.0\n",
      "\n",
      "Inventory is empty\n"
     ]
    }
   ],
   "source": [
    "bob.print_character()"
   ],
   "metadata": {
    "collapsed": false,
    "ExecuteTime": {
     "end_time": "2023-08-08T22:58:26.551607245Z",
     "start_time": "2023-08-08T22:58:26.259764986Z"
    }
   },
   "id": "e62dbaf87cbdc24e"
  },
  {
   "cell_type": "code",
   "execution_count": 117,
   "outputs": [
    {
     "name": "stdout",
     "output_type": "stream",
     "text": [
      "Name: Bob\n",
      "Health: fair (65%)\n",
      "\n",
      "Inventory\n",
      "=========\n",
      "\n",
      "Gold: 0.0\n",
      "\n",
      "Inventory is empty\n"
     ]
    }
   ],
   "source": [
    "bob.decrease_health(35)\n",
    "bob.print_character()"
   ],
   "metadata": {
    "collapsed": false,
    "ExecuteTime": {
     "end_time": "2023-08-08T22:58:27.711877714Z",
     "start_time": "2023-08-08T22:58:26.521947762Z"
    }
   },
   "id": "31abedebbb2bb4a1"
  },
  {
   "cell_type": "code",
   "execution_count": 118,
   "outputs": [],
   "source": [
    "bob.inventory.add_gold(260)\n",
    "bob.get_inventory().add_item(bow)\n",
    "bob.get_inventory().add_item(apple)"
   ],
   "metadata": {
    "collapsed": false,
    "ExecuteTime": {
     "end_time": "2023-08-08T22:58:27.766600564Z",
     "start_time": "2023-08-08T22:58:27.685608640Z"
    }
   },
   "id": "5ed1bec4c99a5e26"
  },
  {
   "cell_type": "code",
   "execution_count": 119,
   "outputs": [
    {
     "name": "stdout",
     "output_type": "stream",
     "text": [
      "Name: Bob\n",
      "Health: fair (65%)\n",
      "\n",
      "Inventory\n",
      "=========\n",
      "\n",
      "Gold: 260.0\n",
      "\n",
      "Name: Bow\n",
      "Category: Weapon\n",
      "Value: 10.7\n",
      "Weight: 4.8\n",
      "Condition: excellent (100.0%)\n",
      "\n",
      "Name: Apple\n",
      "Category: Food\n",
      "Value: 0.34\n",
      "Weight: 0.27\n",
      "Condition: excellent (100.0%)\n"
     ]
    }
   ],
   "source": [
    "bob.print_character()"
   ],
   "metadata": {
    "collapsed": false,
    "ExecuteTime": {
     "end_time": "2023-08-08T22:58:28.002665847Z",
     "start_time": "2023-08-08T22:58:27.772540106Z"
    }
   },
   "id": "9bd7565ae4f2bfe0"
  }
 ],
 "metadata": {
  "kernelspec": {
   "display_name": "Python 3",
   "language": "python",
   "name": "python3"
  },
  "language_info": {
   "codemirror_mode": {
    "name": "ipython",
    "version": 2
   },
   "file_extension": ".py",
   "mimetype": "text/x-python",
   "name": "python",
   "nbconvert_exporter": "python",
   "pygments_lexer": "ipython2",
   "version": "2.7.6"
  }
 },
 "nbformat": 4,
 "nbformat_minor": 5
}
