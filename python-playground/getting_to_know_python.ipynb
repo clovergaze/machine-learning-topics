{
 "cells": [
  {
   "cell_type": "code",
   "execution_count": 201,
   "outputs": [],
   "source": [
    "from enum import Enum"
   ],
   "metadata": {
    "collapsed": false,
    "ExecuteTime": {
     "end_time": "2023-08-07T22:54:35.892546873Z",
     "start_time": "2023-08-07T22:54:35.805247554Z"
    }
   },
   "id": "dfd7706d3096c737"
  },
  {
   "cell_type": "code",
   "execution_count": 202,
   "id": "initial_id",
   "metadata": {
    "collapsed": true,
    "ExecuteTime": {
     "end_time": "2023-08-07T22:54:35.894629412Z",
     "start_time": "2023-08-07T22:54:35.849845314Z"
    }
   },
   "outputs": [],
   "source": [
    "class Category(Enum):\n",
    "    CLOTHES = \"Clothes\"\n",
    "    WEAPON = \"Weapon\"\n",
    "    FOOD = \"Food\"\n",
    "    OTHER = \"Other\"\n",
    "\n",
    "    @staticmethod\n",
    "    def print_categories():\n",
    "        print(\"Available item categories:\")\n",
    "        for category in Category:\n",
    "            print(\"* \" + category.value)"
   ]
  },
  {
   "cell_type": "code",
   "execution_count": 203,
   "outputs": [
    {
     "name": "stdout",
     "output_type": "stream",
     "text": [
      "Available item categories:\n",
      "* Clothes\n",
      "* Weapon\n",
      "* Food\n",
      "* Other\n"
     ]
    }
   ],
   "source": [
    "Category.print_categories()"
   ],
   "metadata": {
    "collapsed": false,
    "ExecuteTime": {
     "end_time": "2023-08-07T22:54:37.526442886Z",
     "start_time": "2023-08-07T22:54:35.899360154Z"
    }
   },
   "id": "1e79566d1a1ede44"
  },
  {
   "cell_type": "code",
   "execution_count": 204,
   "outputs": [],
   "source": [
    "class Item:\n",
    "\n",
    "    def __init__(self, name, category, value, weight, condition=100.0):\n",
    "        self.name = name\n",
    "        self.category = category\n",
    "        self.value = value\n",
    "        self.weight = weight\n",
    "        self.condition = condition\n",
    "\n",
    "    def get_name(self):\n",
    "        return self.name\n",
    "\n",
    "    def get_category(self):\n",
    "        return self.category\n",
    "\n",
    "    def get_value(self):\n",
    "        return self.value\n",
    "\n",
    "    def get_weight(self):\n",
    "        return self.weight\n",
    "\n",
    "    def get_condition(self):\n",
    "        return self.condition\n",
    "\n",
    "    def decrease_condition(self, amount):\n",
    "        self.condition -= amount\n",
    "\n",
    "    def repair_condition(self):\n",
    "        self.condition = 100.0\n",
    "\n",
    "    def print_item(self):\n",
    "        print(\"Name: \" + self.name)\n",
    "        print(\"Category: \" + self.category.value)\n",
    "        print(\"Value: \" + str(self.value))\n",
    "        print(\"Weight: \" + str(self.weight))\n",
    "\n",
    "        if self.condition > 95.0:\n",
    "            verbatim = \"excellent\"\n",
    "        elif self.condition > 75.0:\n",
    "            verbatim = \"good\"\n",
    "        elif self.condition > 50.0:\n",
    "            verbatim = \"fair\"\n",
    "        elif self.condition > 25.0:\n",
    "            verbatim = \"poor\"\n",
    "        elif self.condition > 0.0:\n",
    "            verbatim = \"very poor\"\n",
    "        else:\n",
    "            verbatim = \"broken\"\n",
    "\n",
    "        print(\"Condition: \" + verbatim + \" (\" + str(self.condition) + \"%)\")"
   ],
   "metadata": {
    "collapsed": false,
    "ExecuteTime": {
     "end_time": "2023-08-07T22:54:37.548086178Z",
     "start_time": "2023-08-07T22:54:37.504543189Z"
    }
   },
   "id": "b4a4b8ec11bce1aa"
  },
  {
   "cell_type": "code",
   "execution_count": 205,
   "outputs": [],
   "source": [
    "# Create some items\n",
    "hat = Item(\"Hat\", Category.CLOTHES, 3.2, 0.34)\n",
    "boots = Item(\"Boots\", Category.CLOTHES, 5.6, 1.75)\n",
    "sword = Item(\"Sword\", Category.WEAPON, 13.2, 6.4)\n",
    "bow = Item(\"Bow\", Category.WEAPON, 10.7, 4.8)\n",
    "bread = Item(\"Bread\", Category.FOOD, 2.7, 0.78)\n",
    "apple = Item(\"Apple\", Category.FOOD, 0.34, 0.27)"
   ],
   "metadata": {
    "collapsed": false,
    "ExecuteTime": {
     "end_time": "2023-08-07T22:54:37.653285618Z",
     "start_time": "2023-08-07T22:54:37.547290848Z"
    }
   },
   "id": "d3ee5dbddeb4dc70"
  },
  {
   "cell_type": "code",
   "execution_count": 206,
   "outputs": [
    {
     "name": "stdout",
     "output_type": "stream",
     "text": [
      "Sword\n"
     ]
    }
   ],
   "source": [
    "print(sword.get_name())"
   ],
   "metadata": {
    "collapsed": false,
    "ExecuteTime": {
     "end_time": "2023-08-07T22:54:37.737160045Z",
     "start_time": "2023-08-07T22:54:37.656235754Z"
    }
   },
   "id": "b289d621989adaa3"
  },
  {
   "cell_type": "code",
   "execution_count": 207,
   "outputs": [
    {
     "name": "stdout",
     "output_type": "stream",
     "text": [
      "Name: Hat\n",
      "Category: Clothes\n",
      "Value: 3.2\n",
      "Weight: 0.34\n",
      "Condition: excellent (100.0%)\n"
     ]
    }
   ],
   "source": [
    "hat.print_item()"
   ],
   "metadata": {
    "collapsed": false,
    "ExecuteTime": {
     "end_time": "2023-08-07T22:54:37.828830444Z",
     "start_time": "2023-08-07T22:54:37.780435207Z"
    }
   },
   "id": "c19f7f095f69336f"
  },
  {
   "cell_type": "code",
   "execution_count": 208,
   "outputs": [
    {
     "name": "stdout",
     "output_type": "stream",
     "text": [
      "Name: Hat\n",
      "Category: Clothes\n",
      "Value: 3.2\n",
      "Weight: 0.34\n",
      "Condition: fair (55.0%)\n"
     ]
    }
   ],
   "source": [
    "hat.decrease_condition(45)\n",
    "hat.print_item()"
   ],
   "metadata": {
    "collapsed": false,
    "ExecuteTime": {
     "end_time": "2023-08-07T22:54:37.908486274Z",
     "start_time": "2023-08-07T22:54:37.828545119Z"
    }
   },
   "id": "d81768871db6e05a"
  },
  {
   "cell_type": "code",
   "execution_count": 209,
   "outputs": [],
   "source": [
    "class Gold:\n",
    "\n",
    "    @staticmethod\n",
    "    def validate_amount_is_positive(amount):\n",
    "        if amount < 0:\n",
    "            raise ValueError(\"Amount must be positive\")\n",
    "\n",
    "    def __init__(self, amount=0.0):\n",
    "        Gold.validate_amount_is_positive(amount)\n",
    "\n",
    "        self.name = \"Gold\"\n",
    "        self.category = Category.OTHER\n",
    "        self.amount = amount\n",
    "\n",
    "    def get_name(self):\n",
    "        return self.name\n",
    "\n",
    "    def get_category(self):\n",
    "        return self.category\n",
    "\n",
    "    def get_amount(self):\n",
    "        return self.amount\n",
    "\n",
    "    def add_amount(self, amount):\n",
    "        Gold.validate_amount_is_positive(amount)\n",
    "        self.amount += amount\n",
    "\n",
    "    def remove_amount(self, amount):\n",
    "        Gold.validate_amount_is_positive(amount)\n",
    "\n",
    "        if amount >= self.amount:\n",
    "            raise ValueError(\"Not enough gold\")\n",
    "\n",
    "        self.amount -= amount\n",
    "\n",
    "    def get_weight(self):\n",
    "        return self.amount / 1000\n",
    "\n",
    "    def print_item(self):\n",
    "        print(\"Name: \" + self.name)\n",
    "        print(\"Category: \" + self.category.value)\n",
    "        print(\"Amount: \" + str(self.amount))\n",
    "        print(\"Weight: \" + str(self.get_weight()))"
   ],
   "metadata": {
    "collapsed": false,
    "ExecuteTime": {
     "end_time": "2023-08-07T22:54:37.996560199Z",
     "start_time": "2023-08-07T22:54:37.911288469Z"
    }
   },
   "id": "8f5c4ea2e5018a4d"
  },
  {
   "cell_type": "code",
   "execution_count": 210,
   "outputs": [
    {
     "name": "stdout",
     "output_type": "stream",
     "text": [
      "Name: Gold\n",
      "Category: Other\n",
      "Amount: 200\n",
      "Weight: 0.2\n"
     ]
    }
   ],
   "source": [
    "gold = Gold(200)\n",
    "gold.print_item()"
   ],
   "metadata": {
    "collapsed": false,
    "ExecuteTime": {
     "end_time": "2023-08-07T22:54:38.107073935Z",
     "start_time": "2023-08-07T22:54:37.996470320Z"
    }
   },
   "id": "dcd1d20578eedb7b"
  },
  {
   "cell_type": "code",
   "execution_count": 211,
   "outputs": [
    {
     "name": "stdout",
     "output_type": "stream",
     "text": [
      "Name: Gold\n",
      "Category: Other\n",
      "Amount: 250\n",
      "Weight: 0.25\n"
     ]
    }
   ],
   "source": [
    "gold.add_amount(50)\n",
    "gold.print_item()"
   ],
   "metadata": {
    "collapsed": false,
    "ExecuteTime": {
     "end_time": "2023-08-07T22:54:38.193110072Z",
     "start_time": "2023-08-07T22:54:38.102028991Z"
    }
   },
   "id": "7e0bb8d59ad48b24"
  },
  {
   "cell_type": "code",
   "execution_count": 212,
   "outputs": [
    {
     "name": "stdout",
     "output_type": "stream",
     "text": [
      "Amount must be positive\n"
     ]
    }
   ],
   "source": [
    "try:\n",
    "    gold.add_amount(-50)\n",
    "except ValueError as e:\n",
    "    print(e)"
   ],
   "metadata": {
    "collapsed": false,
    "ExecuteTime": {
     "end_time": "2023-08-07T22:54:38.296476891Z",
     "start_time": "2023-08-07T22:54:38.188696797Z"
    }
   },
   "id": "efa2770336ed61f5"
  },
  {
   "cell_type": "code",
   "execution_count": 213,
   "outputs": [
    {
     "name": "stdout",
     "output_type": "stream",
     "text": [
      "Name: Gold\n",
      "Category: Other\n",
      "Amount: 150\n",
      "Weight: 0.15\n"
     ]
    }
   ],
   "source": [
    "gold.remove_amount(100)\n",
    "gold.print_item()"
   ],
   "metadata": {
    "collapsed": false,
    "ExecuteTime": {
     "end_time": "2023-08-07T22:54:39.197993374Z",
     "start_time": "2023-08-07T22:54:38.276488438Z"
    }
   },
   "id": "a0b78d9cb7085130"
  },
  {
   "cell_type": "code",
   "execution_count": 214,
   "outputs": [
    {
     "name": "stdout",
     "output_type": "stream",
     "text": [
      "Not enough gold\n",
      "\n",
      "Name: Gold\n",
      "Category: Other\n",
      "Amount: 150\n",
      "Weight: 0.15\n"
     ]
    }
   ],
   "source": [
    "try:\n",
    "    gold.remove_amount(500)\n",
    "except ValueError as e:\n",
    "    print(e)\n",
    "    print()\n",
    "\n",
    "gold.print_item()"
   ],
   "metadata": {
    "collapsed": false,
    "ExecuteTime": {
     "end_time": "2023-08-07T22:54:39.289805387Z",
     "start_time": "2023-08-07T22:54:39.172296915Z"
    }
   },
   "id": "3a7373fec3b6e9c2"
  },
  {
   "cell_type": "code",
   "execution_count": 215,
   "outputs": [],
   "source": [
    "class Inventory:\n",
    "\n",
    "    def __init__(self, items=None, gold_amount=0.0):\n",
    "        self.items = items if items is not None else []\n",
    "        self.gold = Gold(gold_amount)\n",
    "\n",
    "    def add_item(self, item):\n",
    "        if item in self.items:\n",
    "            raise ValueError(\"Item already in inventory\")\n",
    "        self.items.append(item)\n",
    "\n",
    "    def remove_item(self, item):\n",
    "        self.items.remove(item)\n",
    "\n",
    "    def add_gold(self, amount):\n",
    "        self.gold.add_amount(amount)\n",
    "\n",
    "    def remove_gold(self, amount):\n",
    "        self.gold.remove_amount(amount)\n",
    "\n",
    "    def print_inventory(self, category=None):\n",
    "        print(\"Inventory\")\n",
    "        print(\"=========\")\n",
    "        print()\n",
    "        self.print_gold()\n",
    "        print()\n",
    "        self.print_items(category)\n",
    "        print()\n",
    "\n",
    "    def print_items(self, category=None):\n",
    "        if len(self.items) == 0:\n",
    "            print(\"Inventory is empty\")\n",
    "        else:\n",
    "            if category is None:\n",
    "                for item in self.items:\n",
    "                    item.print_item()\n",
    "                    print()\n",
    "            else:\n",
    "                for item in self.items:\n",
    "                    if item.get_category() == category:\n",
    "                        item.print_item()\n",
    "                        print()\n",
    "\n",
    "    def print_gold(self):\n",
    "        print(\"Gold: \" + str(self.gold.get_amount()))"
   ],
   "metadata": {
    "collapsed": false,
    "ExecuteTime": {
     "end_time": "2023-08-07T22:54:39.357000921Z",
     "start_time": "2023-08-07T22:54:39.260660965Z"
    }
   },
   "id": "6da2ca8b0ad87573"
  },
  {
   "cell_type": "code",
   "execution_count": 216,
   "outputs": [
    {
     "name": "stdout",
     "output_type": "stream",
     "text": [
      "Inventory\n",
      "=========\n",
      "\n",
      "Gold: 0.0\n",
      "\n",
      "Inventory is empty\n"
     ]
    }
   ],
   "source": [
    "inventory = Inventory()\n",
    "inventory.print_inventory()"
   ],
   "metadata": {
    "collapsed": false,
    "ExecuteTime": {
     "end_time": "2023-08-07T22:54:39.455737881Z",
     "start_time": "2023-08-07T22:54:39.338596039Z"
    }
   },
   "id": "6bf94a7f7cdbb711"
  },
  {
   "cell_type": "code",
   "execution_count": 217,
   "outputs": [
    {
     "name": "stdout",
     "output_type": "stream",
     "text": [
      "Name: Hat\n",
      "Category: Clothes\n",
      "Value: 3.2\n",
      "Weight: 0.34\n",
      "Condition: fair (55.0%)\n"
     ]
    }
   ],
   "source": [
    "inventory.add_item(hat)\n",
    "inventory.print_items()"
   ],
   "metadata": {
    "collapsed": false,
    "ExecuteTime": {
     "end_time": "2023-08-07T22:54:39.532695005Z",
     "start_time": "2023-08-07T22:54:39.450131050Z"
    }
   },
   "id": "fb32038c81e840fa"
  },
  {
   "cell_type": "code",
   "execution_count": 218,
   "outputs": [
    {
     "name": "stdout",
     "output_type": "stream",
     "text": [
      "Item already in inventory\n"
     ]
    }
   ],
   "source": [
    "try:\n",
    "    inventory.add_item(hat)\n",
    "except ValueError as e:\n",
    "    print(e)"
   ],
   "metadata": {
    "collapsed": false,
    "ExecuteTime": {
     "end_time": "2023-08-07T22:54:39.628232834Z",
     "start_time": "2023-08-07T22:54:39.534023500Z"
    }
   },
   "id": "88492c8a7e1c32ae"
  },
  {
   "cell_type": "code",
   "execution_count": 219,
   "outputs": [
    {
     "name": "stdout",
     "output_type": "stream",
     "text": [
      "Inventory\n",
      "=========\n",
      "\n",
      "Gold: 0.0\n",
      "\n",
      "Inventory is empty\n"
     ]
    }
   ],
   "source": [
    "inventory.remove_item(hat)\n",
    "inventory.print_inventory()"
   ],
   "metadata": {
    "collapsed": false,
    "ExecuteTime": {
     "end_time": "2023-08-07T22:54:39.708435037Z",
     "start_time": "2023-08-07T22:54:39.617246913Z"
    }
   },
   "id": "ae147eef4cfa4ba"
  },
  {
   "cell_type": "code",
   "execution_count": 220,
   "outputs": [
    {
     "name": "stdout",
     "output_type": "stream",
     "text": [
      "list.remove(x): x not in list\n"
     ]
    }
   ],
   "source": [
    "try:\n",
    "    inventory.remove_item(sword)\n",
    "except ValueError as e:\n",
    "    print(e)"
   ],
   "metadata": {
    "collapsed": false,
    "ExecuteTime": {
     "end_time": "2023-08-07T22:54:39.796924539Z",
     "start_time": "2023-08-07T22:54:39.701695700Z"
    }
   },
   "id": "4115bf08ef889340"
  },
  {
   "cell_type": "code",
   "execution_count": 221,
   "outputs": [
    {
     "name": "stdout",
     "output_type": "stream",
     "text": [
      "Gold: 250.0\n"
     ]
    }
   ],
   "source": [
    "inventory.add_gold(250)\n",
    "inventory.print_gold()"
   ],
   "metadata": {
    "collapsed": false,
    "ExecuteTime": {
     "end_time": "2023-08-07T22:54:39.883563203Z",
     "start_time": "2023-08-07T22:54:39.796521184Z"
    }
   },
   "id": "bfac190735eb4907"
  },
  {
   "cell_type": "code",
   "execution_count": 222,
   "outputs": [
    {
     "name": "stdout",
     "output_type": "stream",
     "text": [
      "Inventory\n",
      "=========\n",
      "\n",
      "Gold: 150.0\n",
      "\n",
      "Inventory is empty\n"
     ]
    }
   ],
   "source": [
    "inventory.remove_gold(100)\n",
    "inventory.print_inventory()"
   ],
   "metadata": {
    "collapsed": false,
    "ExecuteTime": {
     "end_time": "2023-08-07T22:54:39.982849443Z",
     "start_time": "2023-08-07T22:54:39.886048589Z"
    }
   },
   "id": "eb2c308a5837741e"
  },
  {
   "cell_type": "code",
   "execution_count": 223,
   "outputs": [
    {
     "name": "stdout",
     "output_type": "stream",
     "text": [
      "Inventory\n",
      "=========\n",
      "\n",
      "Gold: 150.0\n",
      "\n",
      "Name: Bread\n",
      "Category: Food\n",
      "Value: 2.7\n",
      "Weight: 0.78\n",
      "Condition: excellent (100.0%)\n",
      "\n",
      "Name: Apple\n",
      "Category: Food\n",
      "Value: 0.34\n",
      "Weight: 0.27\n",
      "Condition: excellent (100.0%)\n"
     ]
    }
   ],
   "source": [
    "inventory.add_item(hat)\n",
    "inventory.add_item(boots)\n",
    "inventory.add_item(sword)\n",
    "inventory.add_item(bread)\n",
    "inventory.add_item(apple)\n",
    "\n",
    "inventory.print_inventory(Category.FOOD)"
   ],
   "metadata": {
    "collapsed": false,
    "ExecuteTime": {
     "end_time": "2023-08-07T22:54:40.084340593Z",
     "start_time": "2023-08-07T22:54:40.020521389Z"
    }
   },
   "id": "bb8ec91a722ede34"
  }
 ],
 "metadata": {
  "kernelspec": {
   "display_name": "Python 3",
   "language": "python",
   "name": "python3"
  },
  "language_info": {
   "codemirror_mode": {
    "name": "ipython",
    "version": 2
   },
   "file_extension": ".py",
   "mimetype": "text/x-python",
   "name": "python",
   "nbconvert_exporter": "python",
   "pygments_lexer": "ipython2",
   "version": "2.7.6"
  }
 },
 "nbformat": 4,
 "nbformat_minor": 5
}
