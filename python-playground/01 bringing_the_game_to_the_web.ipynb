{
 "cells": [
  {
   "cell_type": "code",
   "execution_count": null,
   "id": "initial_id",
   "metadata": {
    "collapsed": true
   },
   "outputs": [],
   "source": [
    "from uuid import UUID\n",
    "\n",
    "from flask import Flask, render_template, redirect, url_for, jsonify, request\n",
    "\n",
    "from game_lib import BASIC_ITEMS, Character"
   ]
  },
  {
   "cell_type": "code",
   "execution_count": null,
   "outputs": [],
   "source": [
    "all_items = BASIC_ITEMS"
   ],
   "metadata": {
    "collapsed": false
   },
   "id": "e0f2cc7f6b2aaa38"
  },
  {
   "cell_type": "code",
   "execution_count": null,
   "outputs": [],
   "source": [
    "bob = Character(\"Bob\", 100)\n",
    "bob.inventory.items = [all_items[0], all_items[1]]\n",
    "\n",
    "carl = Character(\"Carl\", 100)\n",
    "\n",
    "lydia = Character(\"Lydia\", 100)\n",
    "lydia.inventory.items = [all_items[0], all_items[1], all_items[2]]\n",
    "\n",
    "all_characters = [bob, carl, lydia]"
   ],
   "metadata": {
    "collapsed": false
   },
   "id": "a296980689c436b3"
  },
  {
   "cell_type": "code",
   "execution_count": null,
   "outputs": [],
   "source": [
    "app = Flask(__name__, template_folder='templates')"
   ],
   "metadata": {
    "collapsed": false
   },
   "id": "bbb6e1230d5b7716"
  },
  {
   "cell_type": "code",
   "execution_count": null,
   "outputs": [],
   "source": [
    "@app.route('/')\n",
    "def index():\n",
    "    return redirect(url_for('home'))\n",
    "\n",
    "\n",
    "@app.route('/home')\n",
    "def home():\n",
    "    return render_template('home.html')\n",
    "\n",
    "\n",
    "@app.route('/items')\n",
    "def items():\n",
    "    # TODO create new items\n",
    "    # TODO remove existing items\n",
    "    return render_template('items.html', items=all_items)\n",
    "\n",
    "\n",
    "@app.route('/items/<item_id>')\n",
    "def item_details(item_id):\n",
    "    # TODO edit item\n",
    "    item_uuid = UUID(item_id)\n",
    "    item = next(filter(lambda x: x.id == item_uuid, all_items), None)\n",
    "    return render_template('item_details.html', item=item)\n",
    "\n",
    "\n",
    "@app.route('/characters')\n",
    "def characters():\n",
    "    # TODO create new characters\n",
    "    # TODO remove existing characters\n",
    "    return render_template('characters.html', characters=all_characters)\n",
    "\n",
    "\n",
    "@app.route('/characters/<character_id>')\n",
    "def character_details(character_id):\n",
    "    # TODO edit character's name and health\n",
    "    # TODO explore and change the character's inventory\n",
    "    character_uuid = UUID(character_id)\n",
    "    character = next(filter(lambda x: x.id == character_uuid, all_characters), None)\n",
    "    return render_template('character_details.html', character=character)\n",
    "\n",
    "\n",
    "@app.route('/characters/<character_id>/gold', methods=['POST'])\n",
    "def character_modify_gold(character_id):\n",
    "    character_uuid = UUID(character_id)\n",
    "    character = next(filter(lambda x: x.id == character_uuid, all_characters), None)\n",
    "\n",
    "    data = request.get_json()\n",
    "\n",
    "    action = data.get('action')\n",
    "    amount = data.get('amount')\n",
    "\n",
    "    try:\n",
    "        amount = int(amount)\n",
    "    except ValueError:\n",
    "        return jsonify({'message': 'Amount must be a number.'}), 400\n",
    "\n",
    "    if amount < 0:\n",
    "        return jsonify({'message': 'Amount must be positive.'}), 400\n",
    "\n",
    "    if action == 'add':\n",
    "        character.inventory.gold.amount += amount\n",
    "        message = 'Gold was added.'\n",
    "    elif action == 'remove':\n",
    "        if amount > character.inventory.gold.amount:\n",
    "            return jsonify({'message': 'Not enough gold.'}), 400\n",
    "        character.inventory.gold.amount -= amount\n",
    "        message = 'Gold was removed.'\n",
    "    else:\n",
    "        return jsonify({'message': f'Invalid action (action={action}).'}), 400\n",
    "\n",
    "    return jsonify({\n",
    "        'message': message,\n",
    "        'updated_gold': character.inventory.gold.amount\n",
    "    }), 200"
   ],
   "metadata": {
    "collapsed": false
   },
   "id": "f0c24fcaac28ef87"
  },
  {
   "cell_type": "code",
   "execution_count": null,
   "outputs": [],
   "source": [
    "app.run()"
   ],
   "metadata": {
    "collapsed": false
   },
   "id": "c9925bf7ed7cc7fd"
  }
 ],
 "metadata": {
  "kernelspec": {
   "display_name": "Python 3",
   "language": "python",
   "name": "python3"
  },
  "language_info": {
   "codemirror_mode": {
    "name": "ipython",
    "version": 2
   },
   "file_extension": ".py",
   "mimetype": "text/x-python",
   "name": "python",
   "nbconvert_exporter": "python",
   "pygments_lexer": "ipython2",
   "version": "2.7.6"
  }
 },
 "nbformat": 4,
 "nbformat_minor": 5
}
