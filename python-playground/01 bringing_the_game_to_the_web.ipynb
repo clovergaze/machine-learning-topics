{
 "cells": [
  {
   "cell_type": "code",
   "execution_count": null,
   "id": "initial_id",
   "metadata": {
    "collapsed": true
   },
   "outputs": [],
   "source": [
    "from flask import Flask, render_template, redirect, url_for\n",
    "\n",
    "from game_lib import BASIC_ITEMS, Character"
   ]
  },
  {
   "cell_type": "code",
   "execution_count": null,
   "outputs": [],
   "source": [
    "all_items = BASIC_ITEMS"
   ],
   "metadata": {
    "collapsed": false
   },
   "id": "e0f2cc7f6b2aaa38"
  },
  {
   "cell_type": "code",
   "execution_count": null,
   "outputs": [],
   "source": [
    "bob = Character(\"Bob\", 100)\n",
    "bob.inventory.items = [all_items[0], all_items[1]]\n",
    "\n",
    "carl = Character(\"Carl\", 100)\n",
    "\n",
    "lydia = Character(\"Lydia\", 100)\n",
    "lydia.inventory.items = [all_items[0], all_items[1], all_items[2]]\n",
    "\n",
    "all_characters = [bob, carl, lydia]"
   ],
   "metadata": {
    "collapsed": false
   },
   "id": "a296980689c436b3"
  },
  {
   "cell_type": "code",
   "execution_count": null,
   "outputs": [],
   "source": [
    "app = Flask(__name__, template_folder='templates')"
   ],
   "metadata": {
    "collapsed": false
   },
   "id": "bbb6e1230d5b7716"
  },
  {
   "cell_type": "code",
   "execution_count": null,
   "outputs": [],
   "source": [
    "@app.route('/')\n",
    "def index():\n",
    "    return redirect(url_for('home'))\n",
    "\n",
    "\n",
    "@app.route('/home')\n",
    "def home():\n",
    "    return render_template('home.html')\n",
    "\n",
    "\n",
    "@app.route('/items')\n",
    "def items():\n",
    "    # TODO create new items\n",
    "    # TODO remove existing items\n",
    "    return render_template('items.html', items=all_items)\n",
    "\n",
    "\n",
    "@app.route('/items/<item_name>')\n",
    "def item_details(item_name):\n",
    "    # TODO edit item\n",
    "    item = next(filter(lambda x: x.name.lower() == item_name, all_items), None)\n",
    "    return render_template('item_details.html', item=item)\n",
    "\n",
    "\n",
    "@app.route('/characters')\n",
    "def characters():\n",
    "    # TODO create new characters\n",
    "    # TODO remove existing characters\n",
    "    return render_template('characters.html', characters=all_characters)\n",
    "\n",
    "\n",
    "@app.route('/characters/<character_name>')\n",
    "def character_details(character_name):\n",
    "    # TODO add or remove gold\n",
    "    # TODO edit character's name and health\n",
    "    # TODO explore and change the character's inventory \n",
    "    character = next(filter(lambda x: x.name.lower() == character_name, all_characters), None)\n",
    "    return render_template('character_details.html', character=character)"
   ],
   "metadata": {
    "collapsed": false
   },
   "id": "f0c24fcaac28ef87"
  },
  {
   "cell_type": "code",
   "execution_count": null,
   "outputs": [],
   "source": [
    "app.run()"
   ],
   "metadata": {
    "collapsed": false
   },
   "id": "c9925bf7ed7cc7fd"
  }
 ],
 "metadata": {
  "kernelspec": {
   "display_name": "Python 3",
   "language": "python",
   "name": "python3"
  },
  "language_info": {
   "codemirror_mode": {
    "name": "ipython",
    "version": 2
   },
   "file_extension": ".py",
   "mimetype": "text/x-python",
   "name": "python",
   "nbconvert_exporter": "python",
   "pygments_lexer": "ipython2",
   "version": "2.7.6"
  }
 },
 "nbformat": 4,
 "nbformat_minor": 5
}
