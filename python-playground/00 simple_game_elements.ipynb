{
 "cells": [
  {
   "cell_type": "code",
   "execution_count": 1,
   "outputs": [],
   "source": [
    "from enum import Enum"
   ],
   "metadata": {
    "collapsed": false,
    "ExecuteTime": {
     "end_time": "2023-08-14T18:21:14.045307521Z",
     "start_time": "2023-08-14T18:21:14.009412282Z"
    }
   },
   "id": "dfd7706d3096c737"
  },
  {
   "cell_type": "code",
   "execution_count": 2,
   "id": "initial_id",
   "metadata": {
    "collapsed": true,
    "ExecuteTime": {
     "end_time": "2023-08-14T18:21:14.128881110Z",
     "start_time": "2023-08-14T18:21:14.009546915Z"
    }
   },
   "outputs": [],
   "source": [
    "class Category(Enum):\n",
    "    CLOTHES = \"Clothes\"\n",
    "    WEAPON = \"Weapon\"\n",
    "    FOOD = \"Food\"\n",
    "    OTHER = \"Other\""
   ]
  },
  {
   "cell_type": "code",
   "execution_count": 3,
   "outputs": [],
   "source": [
    "def print_categories():\n",
    "    print(\"Available item categories:\")\n",
    "    for category in Category:\n",
    "        print(\"* \" + category.value)"
   ],
   "metadata": {
    "collapsed": false,
    "ExecuteTime": {
     "end_time": "2023-08-14T18:21:14.247074469Z",
     "start_time": "2023-08-14T18:21:14.089696077Z"
    }
   },
   "id": "a8106f5d0ea9eeed"
  },
  {
   "cell_type": "code",
   "execution_count": 4,
   "outputs": [
    {
     "name": "stdout",
     "output_type": "stream",
     "text": [
      "Available item categories:\n",
      "* Clothes\n",
      "* Weapon\n",
      "* Food\n",
      "* Other\n"
     ]
    }
   ],
   "source": [
    "print_categories()"
   ],
   "metadata": {
    "collapsed": false,
    "ExecuteTime": {
     "end_time": "2023-08-14T18:21:14.396265870Z",
     "start_time": "2023-08-14T18:21:14.205201657Z"
    }
   },
   "id": "1e79566d1a1ede44"
  },
  {
   "cell_type": "code",
   "execution_count": 5,
   "outputs": [],
   "source": [
    "class Item:\n",
    "\n",
    "    def __init__(self, name, category, value, weight, condition=100.0):\n",
    "        self.name = name\n",
    "        self.category = category\n",
    "        self.value = value\n",
    "        self.weight = weight\n",
    "        self.condition = condition\n",
    "\n",
    "    def decrease_condition(self, amount):\n",
    "        self.condition -= amount\n",
    "\n",
    "    def repair_condition(self):\n",
    "        self.condition = 100.0\n",
    "\n",
    "    def print(self):\n",
    "        print(\"Name: \" + self.name)\n",
    "        print(\"Category: \" + self.category.value)\n",
    "        print(\"Value: \" + str(self.value))\n",
    "        print(\"Weight: \" + str(self.weight))\n",
    "\n",
    "        if self.condition > 95.0:\n",
    "            verbatim = \"excellent\"\n",
    "        elif self.condition > 75.0:\n",
    "            verbatim = \"good\"\n",
    "        elif self.condition > 50.0:\n",
    "            verbatim = \"fair\"\n",
    "        elif self.condition > 25.0:\n",
    "            verbatim = \"poor\"\n",
    "        elif self.condition > 0.0:\n",
    "            verbatim = \"very poor\"\n",
    "        else:\n",
    "            verbatim = \"broken\"\n",
    "\n",
    "        print(\"Condition: \" + verbatim + \" (\" + str(self.condition) + \"%)\")"
   ],
   "metadata": {
    "collapsed": false,
    "ExecuteTime": {
     "end_time": "2023-08-14T18:21:14.456439441Z",
     "start_time": "2023-08-14T18:21:14.291997438Z"
    }
   },
   "id": "b4a4b8ec11bce1aa"
  },
  {
   "cell_type": "code",
   "execution_count": 6,
   "outputs": [],
   "source": [
    "# Create some items\n",
    "hat = Item(\"Hat\", Category.CLOTHES, 3.2, 0.34)\n",
    "boots = Item(\"Boots\", Category.CLOTHES, 5.6, 1.75)\n",
    "sword = Item(\"Sword\", Category.WEAPON, 13.2, 6.4)\n",
    "bow = Item(\"Bow\", Category.WEAPON, 10.7, 4.8)\n",
    "bread = Item(\"Bread\", Category.FOOD, 2.7, 0.78)\n",
    "apple = Item(\"Apple\", Category.FOOD, 0.34, 0.27)"
   ],
   "metadata": {
    "collapsed": false,
    "ExecuteTime": {
     "end_time": "2023-08-14T18:21:14.570170902Z",
     "start_time": "2023-08-14T18:21:14.376863140Z"
    }
   },
   "id": "d3ee5dbddeb4dc70"
  },
  {
   "cell_type": "code",
   "execution_count": 7,
   "outputs": [
    {
     "name": "stdout",
     "output_type": "stream",
     "text": [
      "Sword\n"
     ]
    }
   ],
   "source": [
    "print(sword.name)"
   ],
   "metadata": {
    "collapsed": false,
    "ExecuteTime": {
     "end_time": "2023-08-14T18:21:14.678772246Z",
     "start_time": "2023-08-14T18:21:14.533872822Z"
    }
   },
   "id": "b289d621989adaa3"
  },
  {
   "cell_type": "code",
   "execution_count": 8,
   "outputs": [
    {
     "name": "stdout",
     "output_type": "stream",
     "text": [
      "Name: Hat\n",
      "Category: Clothes\n",
      "Value: 3.2\n",
      "Weight: 0.34\n",
      "Condition: excellent (100.0%)\n"
     ]
    }
   ],
   "source": [
    "hat.print()"
   ],
   "metadata": {
    "collapsed": false,
    "ExecuteTime": {
     "end_time": "2023-08-14T18:21:14.725979104Z",
     "start_time": "2023-08-14T18:21:14.619254249Z"
    }
   },
   "id": "c19f7f095f69336f"
  },
  {
   "cell_type": "code",
   "execution_count": 9,
   "outputs": [
    {
     "name": "stdout",
     "output_type": "stream",
     "text": [
      "Name: Hat\n",
      "Category: Clothes\n",
      "Value: 3.2\n",
      "Weight: 0.34\n",
      "Condition: fair (55.0%)\n"
     ]
    }
   ],
   "source": [
    "hat.decrease_condition(45)\n",
    "hat.print()"
   ],
   "metadata": {
    "collapsed": false,
    "ExecuteTime": {
     "end_time": "2023-08-14T18:21:14.861597745Z",
     "start_time": "2023-08-14T18:21:14.674696435Z"
    }
   },
   "id": "d81768871db6e05a"
  },
  {
   "cell_type": "code",
   "execution_count": 10,
   "outputs": [],
   "source": [
    "class Gold:\n",
    "\n",
    "    @staticmethod\n",
    "    def _validate_amount_is_positive(amount):\n",
    "        if amount < 0:\n",
    "            raise ValueError(\"Amount must be positive\")\n",
    "\n",
    "    def __init__(self, amount=0.0):\n",
    "        Gold._validate_amount_is_positive(amount)\n",
    "\n",
    "        self.name = \"Gold\"\n",
    "        self.category = Category.OTHER\n",
    "        self.amount = amount\n",
    "\n",
    "    def add_amount(self, amount):\n",
    "        Gold._validate_amount_is_positive(amount)\n",
    "        self.amount += amount\n",
    "\n",
    "    def remove_amount(self, amount):\n",
    "        Gold._validate_amount_is_positive(amount)\n",
    "\n",
    "        if amount >= self.amount:\n",
    "            raise ValueError(\"Not enough gold\")\n",
    "\n",
    "        self.amount -= amount\n",
    "\n",
    "    def calculate_weight(self):\n",
    "        return self.amount / 1000\n",
    "\n",
    "    def print(self):\n",
    "        print(\"Name: \" + self.name)\n",
    "        print(\"Category: \" + self.category.value)\n",
    "        print(\"Amount: \" + str(self.amount))\n",
    "        print(\"Weight: \" + str(self.calculate_weight()))"
   ],
   "metadata": {
    "collapsed": false,
    "ExecuteTime": {
     "end_time": "2023-08-14T18:21:14.863334846Z",
     "start_time": "2023-08-14T18:21:14.764540050Z"
    }
   },
   "id": "8f5c4ea2e5018a4d"
  },
  {
   "cell_type": "code",
   "execution_count": 11,
   "outputs": [
    {
     "name": "stdout",
     "output_type": "stream",
     "text": [
      "Name: Gold\n",
      "Category: Other\n",
      "Amount: 200\n",
      "Weight: 0.2\n"
     ]
    }
   ],
   "source": [
    "gold = Gold(200)\n",
    "gold.print()"
   ],
   "metadata": {
    "collapsed": false,
    "ExecuteTime": {
     "end_time": "2023-08-14T18:21:16.306204019Z",
     "start_time": "2023-08-14T18:21:14.838292382Z"
    }
   },
   "id": "dcd1d20578eedb7b"
  },
  {
   "cell_type": "code",
   "execution_count": 12,
   "outputs": [
    {
     "name": "stdout",
     "output_type": "stream",
     "text": [
      "Name: Gold\n",
      "Category: Other\n",
      "Amount: 250\n",
      "Weight: 0.25\n"
     ]
    }
   ],
   "source": [
    "gold.add_amount(50)\n",
    "gold.print()"
   ],
   "metadata": {
    "collapsed": false,
    "ExecuteTime": {
     "end_time": "2023-08-14T18:21:16.311300871Z",
     "start_time": "2023-08-14T18:21:16.256896340Z"
    }
   },
   "id": "7e0bb8d59ad48b24"
  },
  {
   "cell_type": "code",
   "execution_count": 13,
   "outputs": [
    {
     "name": "stdout",
     "output_type": "stream",
     "text": [
      "Amount must be positive\n"
     ]
    }
   ],
   "source": [
    "try:\n",
    "    gold.add_amount(-50)\n",
    "except ValueError as e:\n",
    "    print(e)"
   ],
   "metadata": {
    "collapsed": false,
    "ExecuteTime": {
     "end_time": "2023-08-14T18:21:16.394030743Z",
     "start_time": "2023-08-14T18:21:16.307109530Z"
    }
   },
   "id": "efa2770336ed61f5"
  },
  {
   "cell_type": "code",
   "execution_count": 14,
   "outputs": [
    {
     "name": "stdout",
     "output_type": "stream",
     "text": [
      "Name: Gold\n",
      "Category: Other\n",
      "Amount: 150\n",
      "Weight: 0.15\n"
     ]
    }
   ],
   "source": [
    "gold.remove_amount(100)\n",
    "gold.print()"
   ],
   "metadata": {
    "collapsed": false,
    "ExecuteTime": {
     "end_time": "2023-08-14T18:21:16.489152793Z",
     "start_time": "2023-08-14T18:21:16.394489480Z"
    }
   },
   "id": "a0b78d9cb7085130"
  },
  {
   "cell_type": "code",
   "execution_count": 15,
   "outputs": [
    {
     "name": "stdout",
     "output_type": "stream",
     "text": [
      "Not enough gold\n",
      "\n",
      "Name: Gold\n",
      "Category: Other\n",
      "Amount: 150\n",
      "Weight: 0.15\n"
     ]
    }
   ],
   "source": [
    "try:\n",
    "    gold.remove_amount(500)\n",
    "except ValueError as e:\n",
    "    print(e)\n",
    "    print()\n",
    "\n",
    "gold.print()"
   ],
   "metadata": {
    "collapsed": false,
    "ExecuteTime": {
     "end_time": "2023-08-14T18:21:16.586026462Z",
     "start_time": "2023-08-14T18:21:16.493115879Z"
    }
   },
   "id": "3a7373fec3b6e9c2"
  },
  {
   "cell_type": "code",
   "execution_count": 16,
   "outputs": [],
   "source": [
    "class Inventory:\n",
    "\n",
    "    def __init__(self, items=None, gold_amount=0.0):\n",
    "        self.items = items if items is not None else []\n",
    "        self.gold = Gold(gold_amount)\n",
    "\n",
    "    def add_item(self, item):\n",
    "        if item in self.items:\n",
    "            raise ValueError(\"Item already in inventory\")\n",
    "        self.items.append(item)\n",
    "\n",
    "    def remove_item(self, item):\n",
    "        if item not in self.items:\n",
    "            raise ValueError(\"Item not in inventory\")\n",
    "        self.items.remove(item)\n",
    "\n",
    "    def add_gold(self, amount):\n",
    "        self.gold.add_amount(amount)\n",
    "\n",
    "    def remove_gold(self, amount):\n",
    "        self.gold.remove_amount(amount)\n",
    "\n",
    "    def print(self, category=None):\n",
    "        print(\"Inventory\")\n",
    "        print(\"=========\")\n",
    "        print()\n",
    "        print(\"Gold: \" + str(self.gold.amount))\n",
    "        print()\n",
    "        self._print_items(category)\n",
    "        print()\n",
    "\n",
    "    def _print_items(self, category=None):\n",
    "        if len(self.items) == 0:\n",
    "            print(\"Inventory is empty\")\n",
    "        else:\n",
    "            if category is None:\n",
    "                for item in self.items:\n",
    "                    item.print()\n",
    "                    print()\n",
    "            else:\n",
    "                for item in self.items:\n",
    "                    if item.category == category:\n",
    "                        item.print()\n",
    "                        print()"
   ],
   "metadata": {
    "collapsed": false,
    "ExecuteTime": {
     "end_time": "2023-08-14T18:21:16.701745177Z",
     "start_time": "2023-08-14T18:21:16.628899582Z"
    }
   },
   "id": "6da2ca8b0ad87573"
  },
  {
   "cell_type": "code",
   "execution_count": 17,
   "outputs": [
    {
     "name": "stdout",
     "output_type": "stream",
     "text": [
      "Inventory\n",
      "=========\n",
      "\n",
      "Gold: 0.0\n",
      "\n",
      "Inventory is empty\n"
     ]
    }
   ],
   "source": [
    "inventory = Inventory()\n",
    "inventory.print()"
   ],
   "metadata": {
    "collapsed": false,
    "ExecuteTime": {
     "end_time": "2023-08-14T18:21:16.843948930Z",
     "start_time": "2023-08-14T18:21:16.707510953Z"
    }
   },
   "id": "6bf94a7f7cdbb711"
  },
  {
   "cell_type": "code",
   "execution_count": 18,
   "outputs": [
    {
     "name": "stdout",
     "output_type": "stream",
     "text": [
      "Inventory\n",
      "=========\n",
      "\n",
      "Gold: 0.0\n",
      "\n",
      "Name: Hat\n",
      "Category: Clothes\n",
      "Value: 3.2\n",
      "Weight: 0.34\n",
      "Condition: fair (55.0%)\n"
     ]
    }
   ],
   "source": [
    "inventory.add_item(hat)\n",
    "inventory.print()"
   ],
   "metadata": {
    "collapsed": false,
    "ExecuteTime": {
     "end_time": "2023-08-14T18:21:17.019222336Z",
     "start_time": "2023-08-14T18:21:16.884842039Z"
    }
   },
   "id": "fb32038c81e840fa"
  },
  {
   "cell_type": "code",
   "execution_count": 19,
   "outputs": [
    {
     "name": "stdout",
     "output_type": "stream",
     "text": [
      "Item already in inventory\n"
     ]
    }
   ],
   "source": [
    "try:\n",
    "    inventory.add_item(hat)\n",
    "except ValueError as e:\n",
    "    print(e)"
   ],
   "metadata": {
    "collapsed": false,
    "ExecuteTime": {
     "end_time": "2023-08-14T18:21:17.181914083Z",
     "start_time": "2023-08-14T18:21:17.018738215Z"
    }
   },
   "id": "88492c8a7e1c32ae"
  },
  {
   "cell_type": "code",
   "execution_count": 20,
   "outputs": [
    {
     "name": "stdout",
     "output_type": "stream",
     "text": [
      "Inventory\n",
      "=========\n",
      "\n",
      "Gold: 0.0\n",
      "\n",
      "Inventory is empty\n"
     ]
    }
   ],
   "source": [
    "inventory.remove_item(hat)\n",
    "inventory.print()"
   ],
   "metadata": {
    "collapsed": false,
    "ExecuteTime": {
     "end_time": "2023-08-14T18:21:17.364113364Z",
     "start_time": "2023-08-14T18:21:17.220838714Z"
    }
   },
   "id": "ae147eef4cfa4ba"
  },
  {
   "cell_type": "code",
   "execution_count": 21,
   "outputs": [
    {
     "name": "stdout",
     "output_type": "stream",
     "text": [
      "Item not in inventory\n"
     ]
    }
   ],
   "source": [
    "try:\n",
    "    inventory.remove_item(sword)\n",
    "except ValueError as e:\n",
    "    print(e)"
   ],
   "metadata": {
    "collapsed": false,
    "ExecuteTime": {
     "end_time": "2023-08-14T18:21:17.457489425Z",
     "start_time": "2023-08-14T18:21:17.365459183Z"
    }
   },
   "id": "4115bf08ef889340"
  },
  {
   "cell_type": "code",
   "execution_count": 22,
   "outputs": [
    {
     "name": "stdout",
     "output_type": "stream",
     "text": [
      "Inventory\n",
      "=========\n",
      "\n",
      "Gold: 250.0\n",
      "\n",
      "Inventory is empty\n"
     ]
    }
   ],
   "source": [
    "inventory.add_gold(250)\n",
    "inventory.print()"
   ],
   "metadata": {
    "collapsed": false,
    "ExecuteTime": {
     "end_time": "2023-08-14T18:21:17.554796828Z",
     "start_time": "2023-08-14T18:21:17.458222225Z"
    }
   },
   "id": "bfac190735eb4907"
  },
  {
   "cell_type": "code",
   "execution_count": 23,
   "outputs": [
    {
     "name": "stdout",
     "output_type": "stream",
     "text": [
      "Inventory\n",
      "=========\n",
      "\n",
      "Gold: 150.0\n",
      "\n",
      "Inventory is empty\n"
     ]
    }
   ],
   "source": [
    "inventory.remove_gold(100)\n",
    "inventory.print()"
   ],
   "metadata": {
    "collapsed": false,
    "ExecuteTime": {
     "end_time": "2023-08-14T18:21:18.453596332Z",
     "start_time": "2023-08-14T18:21:17.596861694Z"
    }
   },
   "id": "eb2c308a5837741e"
  },
  {
   "cell_type": "code",
   "execution_count": 24,
   "outputs": [
    {
     "name": "stdout",
     "output_type": "stream",
     "text": [
      "Inventory\n",
      "=========\n",
      "\n",
      "Gold: 150.0\n",
      "\n",
      "Name: Bread\n",
      "Category: Food\n",
      "Value: 2.7\n",
      "Weight: 0.78\n",
      "Condition: excellent (100.0%)\n",
      "\n",
      "Name: Apple\n",
      "Category: Food\n",
      "Value: 0.34\n",
      "Weight: 0.27\n",
      "Condition: excellent (100.0%)\n"
     ]
    }
   ],
   "source": [
    "inventory.add_item(hat)\n",
    "inventory.add_item(boots)\n",
    "inventory.add_item(sword)\n",
    "inventory.add_item(bread)\n",
    "inventory.add_item(apple)\n",
    "\n",
    "inventory.print(Category.FOOD)"
   ],
   "metadata": {
    "collapsed": false,
    "ExecuteTime": {
     "end_time": "2023-08-14T18:21:18.539228135Z",
     "start_time": "2023-08-14T18:21:18.461010419Z"
    }
   },
   "id": "bb8ec91a722ede34"
  },
  {
   "cell_type": "code",
   "execution_count": 25,
   "outputs": [],
   "source": [
    "class Character:\n",
    "\n",
    "    def __init__(self, name, health=100, inventory=None):\n",
    "        self.name = name\n",
    "        self.health = health\n",
    "        self.inventory = inventory if inventory is not None else Inventory()\n",
    "\n",
    "    def increase_health(self, amount):\n",
    "        self.health += amount\n",
    "        if self.health > 100:\n",
    "            self.health = 100\n",
    "\n",
    "    def decrease_health(self, amount):\n",
    "        self.health -= amount\n",
    "        if self.health < 0:\n",
    "            self.health = 0\n",
    "\n",
    "    def print(self):\n",
    "        print(\"Name: \" + self.name)\n",
    "\n",
    "        if self.health > 95:\n",
    "            verbatim = \"excellent\"\n",
    "        elif self.health > 75:\n",
    "            verbatim = \"good\"\n",
    "        elif self.health > 50:\n",
    "            verbatim = \"fair\"\n",
    "        elif self.health > 25:\n",
    "            verbatim = \"poor\"\n",
    "        elif self.health > 0:\n",
    "            verbatim = \"very poor\"\n",
    "        else:\n",
    "            verbatim = \"dead\"\n",
    "\n",
    "        print(\"Health: \" + verbatim + \" (\" + str(self.health) + \"%)\")\n",
    "        print()\n",
    "        self.inventory.print()"
   ],
   "metadata": {
    "collapsed": false,
    "ExecuteTime": {
     "end_time": "2023-08-14T18:21:18.635546631Z",
     "start_time": "2023-08-14T18:21:18.544241805Z"
    }
   },
   "id": "bf21b14e7eda911e"
  },
  {
   "cell_type": "code",
   "execution_count": 26,
   "outputs": [
    {
     "name": "stdout",
     "output_type": "stream",
     "text": [
      "Name: Bob\n",
      "Health: excellent (100%)\n",
      "\n",
      "Inventory\n",
      "=========\n",
      "\n",
      "Gold: 0.0\n",
      "\n",
      "Inventory is empty\n"
     ]
    }
   ],
   "source": [
    "bob = Character(\"Bob\")\n",
    "bob.print()"
   ],
   "metadata": {
    "collapsed": false,
    "ExecuteTime": {
     "end_time": "2023-08-14T18:21:18.805831898Z",
     "start_time": "2023-08-14T18:21:18.637183901Z"
    }
   },
   "id": "aafca7e46aa5048f"
  },
  {
   "cell_type": "code",
   "execution_count": 27,
   "outputs": [
    {
     "name": "stdout",
     "output_type": "stream",
     "text": [
      "Name: Bob\n",
      "Health: fair (65%)\n",
      "\n",
      "Inventory\n",
      "=========\n",
      "\n",
      "Gold: 0.0\n",
      "\n",
      "Inventory is empty\n"
     ]
    }
   ],
   "source": [
    "bob.decrease_health(35)\n",
    "bob.print()"
   ],
   "metadata": {
    "collapsed": false,
    "ExecuteTime": {
     "end_time": "2023-08-14T18:21:18.895414448Z",
     "start_time": "2023-08-14T18:21:18.828791298Z"
    }
   },
   "id": "31abedebbb2bb4a1"
  },
  {
   "cell_type": "code",
   "execution_count": 28,
   "outputs": [],
   "source": [
    "bob.inventory.add_gold(260)\n",
    "bob.inventory.add_item(bow)\n",
    "bob.inventory.add_item(apple)"
   ],
   "metadata": {
    "collapsed": false,
    "ExecuteTime": {
     "end_time": "2023-08-14T18:21:19.064603399Z",
     "start_time": "2023-08-14T18:21:18.902864667Z"
    }
   },
   "id": "5ed1bec4c99a5e26"
  },
  {
   "cell_type": "code",
   "execution_count": 29,
   "outputs": [
    {
     "name": "stdout",
     "output_type": "stream",
     "text": [
      "Name: Bob\n",
      "Health: fair (65%)\n",
      "\n",
      "Inventory\n",
      "=========\n",
      "\n",
      "Gold: 260.0\n",
      "\n",
      "Name: Bow\n",
      "Category: Weapon\n",
      "Value: 10.7\n",
      "Weight: 4.8\n",
      "Condition: excellent (100.0%)\n",
      "\n",
      "Name: Apple\n",
      "Category: Food\n",
      "Value: 0.34\n",
      "Weight: 0.27\n",
      "Condition: excellent (100.0%)\n"
     ]
    }
   ],
   "source": [
    "bob.print()"
   ],
   "metadata": {
    "collapsed": false,
    "ExecuteTime": {
     "end_time": "2023-08-14T18:21:19.167700705Z",
     "start_time": "2023-08-14T18:21:19.104835021Z"
    }
   },
   "id": "9bd7565ae4f2bfe0"
  }
 ],
 "metadata": {
  "kernelspec": {
   "display_name": "Python 3",
   "language": "python",
   "name": "python3"
  },
  "language_info": {
   "codemirror_mode": {
    "name": "ipython",
    "version": 2
   },
   "file_extension": ".py",
   "mimetype": "text/x-python",
   "name": "python",
   "nbconvert_exporter": "python",
   "pygments_lexer": "ipython2",
   "version": "2.7.6"
  }
 },
 "nbformat": 4,
 "nbformat_minor": 5
}
