{
 "cells": [
  {
   "cell_type": "code",
   "execution_count": 101,
   "metadata": {
    "collapsed": true
   },
   "outputs": [],
   "source": [
    "# Predict preferred music genre depending on age and gender using a decision tree\n",
    "# Based on a Python ML tutorial (https://www.youtube.com/watch?v=7eh4d6sabA0)"
   ]
  },
  {
   "cell_type": "code",
   "execution_count": 41,
   "outputs": [],
   "source": [
    "import os\n",
    "\n",
    "base_path = os.getcwd()"
   ],
   "metadata": {
    "collapsed": false
   }
  },
  {
   "cell_type": "code",
   "execution_count": 42,
   "outputs": [],
   "source": [
    "# Prepare data\n",
    "import pandas as pd\n",
    "from sklearn.model_selection import train_test_split\n",
    "\n",
    "data = pd.read_csv(base_path + '/data/music.csv')\n",
    "\n",
    "# Cleaning of data not necessary here, data was constructed manually for this example\n",
    "\n",
    "# Split data into input and output sets (output is to be predicted by input)\n",
    "X = data.drop(columns=['genre'])  # Input\n",
    "y = data['genre']  # Target\n",
    "\n",
    "# Split data into training and test sets\n",
    "# Use 20% of the data for testing (samples are picked randomly over the whole set)\n",
    "# A 80/20 or 70/30 split is common\n",
    "X_train, X_test, y_train, y_test = train_test_split(X, y, test_size=0.2)"
   ],
   "metadata": {
    "collapsed": false
   }
  },
  {
   "cell_type": "code",
   "execution_count": null,
   "outputs": [],
   "source": [
    "# Train model (decision tree in this case)\n",
    "from sklearn.tree import DecisionTreeClassifier\n",
    "\n",
    "model = DecisionTreeClassifier()\n",
    "model.fit(X_train, y_train)"
   ],
   "metadata": {
    "collapsed": false,
    "pycharm": {
     "is_executing": true
    }
   }
  },
  {
   "cell_type": "code",
   "execution_count": null,
   "outputs": [],
   "source": [
    "# Persist model (demonstrates how to save and load a model)\n",
    "import joblib\n",
    "\n",
    "model_filename = base_path + '/output/music-recommender.joblib'\n",
    "joblib.dump(model, model_filename)"
   ],
   "metadata": {
    "collapsed": false,
    "pycharm": {
     "is_executing": true
    }
   }
  },
  {
   "cell_type": "code",
   "execution_count": 45,
   "outputs": [],
   "source": [
    "# Load model\n",
    "loaded_model = joblib.load(model_filename)"
   ],
   "metadata": {
    "collapsed": false
   }
  },
  {
   "cell_type": "code",
   "execution_count": 49,
   "outputs": [
    {
     "data": {
      "text/plain": "1.0"
     },
     "execution_count": 49,
     "metadata": {},
     "output_type": "execute_result"
    }
   ],
   "source": [
    "# Measure accuracy of model (calculate accuracy scores for test data)\n",
    "from sklearn.metrics import accuracy_score\n",
    "\n",
    "predictions = loaded_model.predict(X_test)\n",
    "scores = accuracy_score(y_test, predictions)\n",
    "scores"
   ],
   "metadata": {
    "collapsed": false
   }
  },
  {
   "cell_type": "code",
   "execution_count": 47,
   "outputs": [],
   "source": [
    "# Visualize decision tree\n",
    "from sklearn import tree\n",
    "\n",
    "tree.export_graphviz(\n",
    "    loaded_model,\n",
    "    out_file=base_path + '/output/music-recommender.dot',\n",
    "    feature_names=['age', 'gender'],\n",
    "    class_names=sorted(y.unique()),\n",
    "    label='all',\n",
    "    rounded=True,\n",
    "    filled=True\n",
    ")"
   ],
   "metadata": {
    "collapsed": false
   }
  }
 ],
 "metadata": {
  "kernelspec": {
   "display_name": "Python 3",
   "language": "python",
   "name": "python3"
  },
  "language_info": {
   "codemirror_mode": {
    "name": "ipython",
    "version": 2
   },
   "file_extension": ".py",
   "mimetype": "text/x-python",
   "name": "python",
   "nbconvert_exporter": "python",
   "pygments_lexer": "ipython2",
   "version": "2.7.6"
  }
 },
 "nbformat": 4,
 "nbformat_minor": 0
}
