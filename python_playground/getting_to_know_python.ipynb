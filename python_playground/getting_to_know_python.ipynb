{
 "cells": [
  {
   "cell_type": "code",
   "execution_count": 130,
   "outputs": [],
   "source": [
    "from enum import Enum"
   ],
   "metadata": {
    "collapsed": false,
    "ExecuteTime": {
     "end_time": "2023-08-07T18:52:51.065139279Z",
     "start_time": "2023-08-07T18:52:50.829531447Z"
    }
   },
   "id": "dfd7706d3096c737"
  },
  {
   "cell_type": "code",
   "execution_count": 131,
   "id": "initial_id",
   "metadata": {
    "collapsed": true,
    "ExecuteTime": {
     "end_time": "2023-08-07T18:52:52.243706187Z",
     "start_time": "2023-08-07T18:52:51.072073941Z"
    }
   },
   "outputs": [],
   "source": [
    "class Category(Enum):\n",
    "    CLOTHES = \"Clothes\"\n",
    "    WEAPON = \"Weapon\"\n",
    "    FOOD = \"Food\"\n",
    "    OTHER = \"Other\"\n",
    "\n",
    "    @staticmethod\n",
    "    def print_categories():\n",
    "        print(\"Available item categories:\")\n",
    "        for category in Category:\n",
    "            print(\"  * \" + category.value)"
   ]
  },
  {
   "cell_type": "code",
   "execution_count": 132,
   "outputs": [
    {
     "name": "stdout",
     "output_type": "stream",
     "text": [
      "Available item categories:\n",
      "  * Clothes\n",
      "  * Weapon\n",
      "  * Food\n",
      "  * Other\n"
     ]
    }
   ],
   "source": [
    "Category.print_categories()"
   ],
   "metadata": {
    "collapsed": false,
    "ExecuteTime": {
     "end_time": "2023-08-07T18:52:52.352764217Z",
     "start_time": "2023-08-07T18:52:52.249997586Z"
    }
   },
   "id": "1e79566d1a1ede44"
  },
  {
   "cell_type": "code",
   "execution_count": 133,
   "outputs": [],
   "source": [
    "class Item:\n",
    "\n",
    "    def __init__(self, name, category, value, weight, condition=100.0):\n",
    "        self.name = name\n",
    "        self.category = category\n",
    "        self.value = value\n",
    "        self.weight = weight\n",
    "        self.condition = condition\n",
    "\n",
    "    def get_name(self):\n",
    "        return self.name\n",
    "\n",
    "    def get_category(self):\n",
    "        return self.category\n",
    "\n",
    "    def get_value(self):\n",
    "        return self.value\n",
    "\n",
    "    def get_weight(self):\n",
    "        return self.weight\n",
    "\n",
    "    def get_condition(self):\n",
    "        return self.condition\n",
    "\n",
    "    def decrease_condition(self, amount):\n",
    "        self.condition -= amount\n",
    "\n",
    "    def repair_condition(self):\n",
    "        self.condition = 100.0\n",
    "\n",
    "    def print_item(self):\n",
    "        print(\"Name: \" + self.name)\n",
    "        print(\"Category: \" + self.category.value)\n",
    "        print(\"Value: \" + str(self.value))\n",
    "        print(\"Weight: \" + str(self.weight))\n",
    "\n",
    "        if self.condition > 95.0:\n",
    "            verbatim = \"excellent\"\n",
    "        elif self.condition > 75.0:\n",
    "            verbatim = \"good\"\n",
    "        elif self.condition > 50.0:\n",
    "            verbatim = \"fair\"\n",
    "        elif self.condition > 25.0:\n",
    "            verbatim = \"poor\"\n",
    "        elif self.condition > 0.0:\n",
    "            verbatim = \"very poor\"\n",
    "        else:\n",
    "            verbatim = \"broken\"\n",
    "\n",
    "        print(\"Condition: \" + verbatim + \" (\" + str(self.condition) + \"%)\")"
   ],
   "metadata": {
    "collapsed": false,
    "ExecuteTime": {
     "end_time": "2023-08-07T18:52:52.470607369Z",
     "start_time": "2023-08-07T18:52:52.361372426Z"
    }
   },
   "id": "b4a4b8ec11bce1aa"
  },
  {
   "cell_type": "code",
   "execution_count": 134,
   "outputs": [],
   "source": [
    "# Create some items\n",
    "hat = Item(\"Hat\", Category.CLOTHES, 3.2, 0.34)\n",
    "boots = Item(\"Boots\", Category.CLOTHES, 5.6, 1.75)\n",
    "sword = Item(\"Sword\", Category.WEAPON, 13.2, 6.4)\n",
    "bow = Item(\"Bow\", Category.WEAPON, 10.7, 4.8)\n",
    "bread = Item(\"Bread\", Category.FOOD, 2.7, 0.78)\n",
    "apple = Item(\"Apple\", Category.FOOD, 0.34, 0.27)"
   ],
   "metadata": {
    "collapsed": false,
    "ExecuteTime": {
     "end_time": "2023-08-07T18:52:52.637847783Z",
     "start_time": "2023-08-07T18:52:52.462851975Z"
    }
   },
   "id": "d3ee5dbddeb4dc70"
  },
  {
   "cell_type": "code",
   "execution_count": 135,
   "outputs": [
    {
     "name": "stdout",
     "output_type": "stream",
     "text": [
      "Sword\n"
     ]
    }
   ],
   "source": [
    "print(sword.get_name())"
   ],
   "metadata": {
    "collapsed": false,
    "ExecuteTime": {
     "end_time": "2023-08-07T18:52:52.749538347Z",
     "start_time": "2023-08-07T18:52:52.639346614Z"
    }
   },
   "id": "b289d621989adaa3"
  },
  {
   "cell_type": "code",
   "execution_count": 136,
   "outputs": [
    {
     "name": "stdout",
     "output_type": "stream",
     "text": [
      "Name: Hat\n",
      "Category: Clothes\n",
      "Value: 3.2\n",
      "Weight: 0.34\n",
      "Condition: excellent (100.0%)\n"
     ]
    }
   ],
   "source": [
    "hat.print_item()"
   ],
   "metadata": {
    "collapsed": false,
    "ExecuteTime": {
     "end_time": "2023-08-07T18:52:52.859142298Z",
     "start_time": "2023-08-07T18:52:52.788487793Z"
    }
   },
   "id": "c19f7f095f69336f"
  },
  {
   "cell_type": "code",
   "execution_count": 137,
   "outputs": [
    {
     "name": "stdout",
     "output_type": "stream",
     "text": [
      "Name: Hat\n",
      "Category: Clothes\n",
      "Value: 3.2\n",
      "Weight: 0.34\n",
      "Condition: fair (55.0%)\n"
     ]
    }
   ],
   "source": [
    "hat.decrease_condition(45)\n",
    "hat.print_item()"
   ],
   "metadata": {
    "collapsed": false,
    "ExecuteTime": {
     "end_time": "2023-08-07T18:52:53.016268598Z",
     "start_time": "2023-08-07T18:52:52.862616390Z"
    }
   },
   "id": "d81768871db6e05a"
  },
  {
   "cell_type": "code",
   "execution_count": 138,
   "outputs": [],
   "source": [
    "class Gold:\n",
    "\n",
    "    @staticmethod\n",
    "    def validate_amount_is_positive(amount):\n",
    "        if amount < 0:\n",
    "            raise ValueError(\"Amount must be positive\")\n",
    "\n",
    "    def __init__(self, amount=0.0):\n",
    "        Gold.validate_amount_is_positive(amount)\n",
    "\n",
    "        self.name = \"Gold\"\n",
    "        self.category = Category.OTHER\n",
    "        self.amount = amount\n",
    "\n",
    "    def get_name(self):\n",
    "        return self.name\n",
    "\n",
    "    def get_category(self):\n",
    "        return self.category\n",
    "\n",
    "    def get_amount(self):\n",
    "        return self.amount\n",
    "\n",
    "    def add_amount(self, amount):\n",
    "        Gold.validate_amount_is_positive(amount)\n",
    "        self.amount += amount\n",
    "\n",
    "    def remove_amount(self, amount):\n",
    "        Gold.validate_amount_is_positive(amount)\n",
    "\n",
    "        if amount >= self.amount:\n",
    "            raise ValueError(\"Not enough gold\")\n",
    "\n",
    "        self.amount -= amount\n",
    "\n",
    "    def get_weight(self):\n",
    "        return self.amount / 1000\n",
    "\n",
    "    def print_item(self):\n",
    "        print(\"Name: \" + self.name)\n",
    "        print(\"Category: \" + self.category.value)\n",
    "        print(\"Amount: \" + str(self.amount))\n",
    "        print(\"Weight: \" + str(self.get_weight()))"
   ],
   "metadata": {
    "collapsed": false,
    "ExecuteTime": {
     "end_time": "2023-08-07T18:52:53.189590938Z",
     "start_time": "2023-08-07T18:52:53.004521870Z"
    }
   },
   "id": "8f5c4ea2e5018a4d"
  },
  {
   "cell_type": "code",
   "execution_count": 139,
   "outputs": [
    {
     "name": "stdout",
     "output_type": "stream",
     "text": [
      "Name: Gold\n",
      "Category: Other\n",
      "Amount: 200\n",
      "Weight: 0.2\n"
     ]
    }
   ],
   "source": [
    "gold = Gold(200)\n",
    "gold.print_item()"
   ],
   "metadata": {
    "collapsed": false,
    "ExecuteTime": {
     "end_time": "2023-08-07T18:52:53.372625363Z",
     "start_time": "2023-08-07T18:52:53.192170549Z"
    }
   },
   "id": "dcd1d20578eedb7b"
  },
  {
   "cell_type": "code",
   "execution_count": 140,
   "outputs": [
    {
     "name": "stdout",
     "output_type": "stream",
     "text": [
      "Name: Gold\n",
      "Category: Other\n",
      "Amount: 250\n",
      "Weight: 0.25\n"
     ]
    }
   ],
   "source": [
    "gold.add_amount(50)\n",
    "gold.print_item()"
   ],
   "metadata": {
    "collapsed": false,
    "ExecuteTime": {
     "end_time": "2023-08-07T18:52:53.686513172Z",
     "start_time": "2023-08-07T18:52:53.412430008Z"
    }
   },
   "id": "7e0bb8d59ad48b24"
  },
  {
   "cell_type": "code",
   "execution_count": 141,
   "outputs": [
    {
     "name": "stdout",
     "output_type": "stream",
     "text": [
      "Amount must be positive\n"
     ]
    }
   ],
   "source": [
    "try:\n",
    "    gold.add_amount(-50)\n",
    "except ValueError as e:\n",
    "    print(e)"
   ],
   "metadata": {
    "collapsed": false,
    "ExecuteTime": {
     "end_time": "2023-08-07T18:52:53.861271267Z",
     "start_time": "2023-08-07T18:52:53.684974670Z"
    }
   },
   "id": "efa2770336ed61f5"
  },
  {
   "cell_type": "code",
   "execution_count": 142,
   "outputs": [
    {
     "name": "stdout",
     "output_type": "stream",
     "text": [
      "Name: Gold\n",
      "Category: Other\n",
      "Amount: 150\n",
      "Weight: 0.15\n"
     ]
    }
   ],
   "source": [
    "gold.remove_amount(100)\n",
    "gold.print_item()"
   ],
   "metadata": {
    "collapsed": false,
    "ExecuteTime": {
     "end_time": "2023-08-07T18:52:53.993496195Z",
     "start_time": "2023-08-07T18:52:53.863910830Z"
    }
   },
   "id": "a0b78d9cb7085130"
  },
  {
   "cell_type": "code",
   "execution_count": 143,
   "outputs": [
    {
     "name": "stdout",
     "output_type": "stream",
     "text": [
      "Not enough gold\n",
      "Name: Gold\n",
      "Category: Other\n",
      "Amount: 150\n",
      "Weight: 0.15\n"
     ]
    }
   ],
   "source": [
    "try:\n",
    "    gold.remove_amount(500)\n",
    "except ValueError as e:\n",
    "    print(e)\n",
    "\n",
    "gold.print_item()"
   ],
   "metadata": {
    "collapsed": false,
    "ExecuteTime": {
     "end_time": "2023-08-07T18:52:54.938174145Z",
     "start_time": "2023-08-07T18:52:53.999998704Z"
    }
   },
   "id": "3a7373fec3b6e9c2"
  }
 ],
 "metadata": {
  "kernelspec": {
   "display_name": "Python 3",
   "language": "python",
   "name": "python3"
  },
  "language_info": {
   "codemirror_mode": {
    "name": "ipython",
    "version": 2
   },
   "file_extension": ".py",
   "mimetype": "text/x-python",
   "name": "python",
   "nbconvert_exporter": "python",
   "pygments_lexer": "ipython2",
   "version": "2.7.6"
  }
 },
 "nbformat": 4,
 "nbformat_minor": 5
}
