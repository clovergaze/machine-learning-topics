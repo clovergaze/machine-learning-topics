{
 "cells": [
  {
   "cell_type": "code",
   "execution_count": 2,
   "id": "initial_id",
   "metadata": {
    "collapsed": true,
    "ExecuteTime": {
     "end_time": "2023-08-06T21:48:58.676544759Z",
     "start_time": "2023-08-06T21:48:58.634803060Z"
    }
   },
   "outputs": [],
   "source": [
    "from enum import Enum\n",
    "\n",
    "\n",
    "class Category(Enum):\n",
    "    CLOTHES = \"Clothes\"\n",
    "    WEAPON = \"Weapon\"\n",
    "    FOOD = \"Food\"\n",
    "    OTHER = \"Other\"\n",
    "\n",
    "    @staticmethod\n",
    "    def print_categories():\n",
    "        print(\"Available item categories:\")\n",
    "        for category in Category:\n",
    "            print(\"  * \" + category.value)"
   ]
  },
  {
   "cell_type": "code",
   "execution_count": 3,
   "outputs": [
    {
     "name": "stdout",
     "output_type": "stream",
     "text": [
      "Available item categories:\n",
      "  * Clothes\n",
      "  * Weapon\n",
      "  * Food\n",
      "  * Other\n"
     ]
    }
   ],
   "source": [
    "Category.print_categories()"
   ],
   "metadata": {
    "collapsed": false,
    "ExecuteTime": {
     "end_time": "2023-08-06T21:49:00.590188167Z",
     "start_time": "2023-08-06T21:49:00.583909844Z"
    }
   },
   "id": "1e79566d1a1ede44"
  },
  {
   "cell_type": "code",
   "execution_count": 6,
   "outputs": [],
   "source": [
    "class Item:\n",
    "    def __init__(self, name, category, value, weight, condition=100.0):\n",
    "        self.name = name\n",
    "        self.category = category\n",
    "        self.value = value\n",
    "        self.weight = weight\n",
    "        self.condition = condition\n",
    "\n",
    "    def get_name(self):\n",
    "        return self.name\n",
    "\n",
    "    def get_category(self):\n",
    "        return self.category\n",
    "\n",
    "    def get_value(self):\n",
    "        return self.value\n",
    "\n",
    "    def get_weight(self):\n",
    "        return self.weight\n",
    "\n",
    "    def get_condition(self):\n",
    "        return self.condition\n",
    "\n",
    "    def decrease_condition(self, amount):\n",
    "        self.condition -= amount\n",
    "\n",
    "    def repair_condition(self):\n",
    "        self.condition = 100.0\n",
    "\n",
    "    def print_item(self):\n",
    "        print(\"Name: \" + self.name)\n",
    "        print(\"Category: \" + self.category.value)\n",
    "        print(\"Value: \" + str(self.value))\n",
    "        print(\"Weight: \" + str(self.weight))\n",
    "\n",
    "        if self.condition > 95.0:\n",
    "            verbatim = \"excellent\"\n",
    "        elif self.condition > 75.0:\n",
    "            verbatim = \"good\"\n",
    "        elif self.condition > 50.0:\n",
    "            verbatim = \"fair\"\n",
    "        elif self.condition > 25.0:\n",
    "            verbatim = \"poor\"\n",
    "        elif self.condition > 0.0:\n",
    "            verbatim = \"very poor\"\n",
    "        else:\n",
    "            verbatim = \"broken\"\n",
    "\n",
    "        print(\"Condition: \" + verbatim + \" (\" + str(self.condition) + \"%)\")"
   ],
   "metadata": {
    "collapsed": false,
    "ExecuteTime": {
     "end_time": "2023-08-06T21:53:04.247501846Z",
     "start_time": "2023-08-06T21:53:04.201742572Z"
    }
   },
   "id": "b4a4b8ec11bce1aa"
  },
  {
   "cell_type": "code",
   "execution_count": 7,
   "outputs": [],
   "source": [
    "# Create some items\n",
    "hat = Item(\"Hat\", Category.CLOTHES, 3.2, 0.34)\n",
    "boots = Item(\"Boots\", Category.CLOTHES, 5.6, 1.75)\n",
    "sword = Item(\"Sword\", Category.WEAPON, 13.2, 6.4)\n",
    "bow = Item(\"Bow\", Category.WEAPON, 10.7, 4.8)\n",
    "bread = Item(\"Bread\", Category.FOOD, 2.7, 0.78)\n",
    "apple = Item(\"Apple\", Category.FOOD, 0.34, 0.27)"
   ],
   "metadata": {
    "collapsed": false,
    "ExecuteTime": {
     "end_time": "2023-08-06T21:53:06.213765020Z",
     "start_time": "2023-08-06T21:53:06.200278495Z"
    }
   },
   "id": "d3ee5dbddeb4dc70"
  },
  {
   "cell_type": "code",
   "execution_count": 12,
   "outputs": [
    {
     "name": "stdout",
     "output_type": "stream",
     "text": [
      "Sword\n"
     ]
    }
   ],
   "source": [
    "print(sword.get_name())"
   ],
   "metadata": {
    "collapsed": false,
    "ExecuteTime": {
     "end_time": "2023-08-06T22:17:31.790773508Z",
     "start_time": "2023-08-06T22:17:31.780866537Z"
    }
   },
   "id": "b289d621989adaa3"
  },
  {
   "cell_type": "code",
   "execution_count": 13,
   "outputs": [
    {
     "name": "stdout",
     "output_type": "stream",
     "text": [
      "Name: Hat\n",
      "Category: Clothes\n",
      "Value: 3.2\n",
      "Weight: 0.34\n",
      "Condition: excellent (100.0%)\n"
     ]
    }
   ],
   "source": [
    "hat.print_item()"
   ],
   "metadata": {
    "collapsed": false,
    "ExecuteTime": {
     "end_time": "2023-08-06T22:17:32.891371017Z",
     "start_time": "2023-08-06T22:17:32.885862231Z"
    }
   },
   "id": "c19f7f095f69336f"
  },
  {
   "cell_type": "code",
   "execution_count": 14,
   "outputs": [
    {
     "name": "stdout",
     "output_type": "stream",
     "text": [
      "Name: Hat\n",
      "Category: Clothes\n",
      "Value: 3.2\n",
      "Weight: 0.34\n",
      "Condition: fair (55.0%)\n"
     ]
    }
   ],
   "source": [
    "hat.decrease_condition(45)\n",
    "hat.print_item()"
   ],
   "metadata": {
    "collapsed": false,
    "ExecuteTime": {
     "end_time": "2023-08-06T22:17:47.983450093Z",
     "start_time": "2023-08-06T22:17:47.941238385Z"
    }
   },
   "id": "d81768871db6e05a"
  }
 ],
 "metadata": {
  "kernelspec": {
   "display_name": "Python 3",
   "language": "python",
   "name": "python3"
  },
  "language_info": {
   "codemirror_mode": {
    "name": "ipython",
    "version": 2
   },
   "file_extension": ".py",
   "mimetype": "text/x-python",
   "name": "python",
   "nbconvert_exporter": "python",
   "pygments_lexer": "ipython2",
   "version": "2.7.6"
  }
 },
 "nbformat": 4,
 "nbformat_minor": 5
}
